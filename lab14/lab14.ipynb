{
 "cells": [
  {
   "cell_type": "code",
   "execution_count": 2,
   "metadata": {},
   "outputs": [
    {
     "name": "stderr",
     "output_type": "stream",
     "text": [
      "/opt/anaconda3/lib/python3.6/site-packages/h5py/__init__.py:36: FutureWarning: Conversion of the second argument of issubdtype from `float` to `np.floating` is deprecated. In future, it will be treated as `np.float64 == np.dtype(float).type`.\n",
      "  from ._conv import register_converters as _register_converters\n"
     ]
    }
   ],
   "source": [
    "import numpy as np\n",
    "import tensorflow as tf\n",
    "from sklearn.model_selection import train_test_split"
   ]
  },
  {
   "cell_type": "code",
   "execution_count": 3,
   "metadata": {},
   "outputs": [],
   "source": [
    "m = 10000\n",
    "terms_no = 10\n",
    "a = np.array([.6, -.5, -.2][::-1])\n",
    "rcr_depth = a.size\n",
    "X = np.random.random((m,3))\n",
    "cols = X.shape[1]\n",
    "for i in range(cols, terms_no):\n",
    "    ut = np.random.random((m,1))*.1\n",
    "    X = np.append(X, X[:,-rcr_depth:].dot(a)[:, np.newaxis]+ut, axis=1)\n"
   ]
  },
  {
   "cell_type": "code",
   "execution_count": 4,
   "metadata": {},
   "outputs": [],
   "source": [
    "tr_X, te_X = train_test_split(X, random_state=442, test_size=.2)"
   ]
  },
  {
   "cell_type": "code",
   "execution_count": 14,
   "metadata": {},
   "outputs": [],
   "source": [
    "with tf.device('/cpu:0'):\n",
    "    t_X = tf.placeholder(X.dtype, (None, terms_no), 'input')\n",
    "    x2sq = tf.split(t_X, terms_no, 1)\n",
    "    \n",
    "    RNN_cell = tf.contrib.rnn.BasicRNNCell(num_units=1)\n",
    "    output, state = tf.contrib.rnn.static_rnn(RNN_cell, x2sq, dtype=X.dtype)\n",
    "#     init_state = tf.zeros(RNN_l.state_size, dtype=np.float64)\n",
    "#     output = RNN_l(t_X, init_state)"
   ]
  },
  {
   "cell_type": "code",
   "execution_count": 90,
   "metadata": {},
   "outputs": [],
   "source": [
    "init_state = tf.zeros(RNN_l.state_size)"
   ]
  },
  {
   "cell_type": "code",
   "execution_count": 16,
   "metadata": {},
   "outputs": [],
   "source": [
    "with tf.Session() as sess:\n",
    "    sess.run(tf.global_variables_initializer())\n",
    "    rslt = sess.run(output, feed_dict={t_X: tr_X})"
   ]
  },
  {
   "cell_type": "code",
   "execution_count": 18,
   "metadata": {},
   "outputs": [
    {
     "data": {
      "text/plain": [
       "10"
      ]
     },
     "execution_count": 18,
     "metadata": {},
     "output_type": "execute_result"
    }
   ],
   "source": [
    "len(rslt)"
   ]
  },
  {
   "cell_type": "code",
   "execution_count": 21,
   "metadata": {},
   "outputs": [
    {
     "data": {
      "text/plain": [
       "array([[-0.31081986],\n",
       "       [-0.11096051],\n",
       "       [-0.23875827],\n",
       "       ...,\n",
       "       [-0.05450125],\n",
       "       [-0.31547914],\n",
       "       [-0.28888199]])"
      ]
     },
     "execution_count": 21,
     "metadata": {},
     "output_type": "execute_result"
    }
   ],
   "source": [
    "rslt[0]"
   ]
  }
 ],
 "metadata": {
  "kernelspec": {
   "display_name": "Python 3",
   "language": "python",
   "name": "python3"
  },
  "language_info": {
   "codemirror_mode": {
    "name": "ipython",
    "version": 3
   },
   "file_extension": ".py",
   "mimetype": "text/x-python",
   "name": "python",
   "nbconvert_exporter": "python",
   "pygments_lexer": "ipython3",
   "version": "3.6.1"
  }
 },
 "nbformat": 4,
 "nbformat_minor": 2
}

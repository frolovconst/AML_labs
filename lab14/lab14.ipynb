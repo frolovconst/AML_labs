{
 "cells": [
  {
   "cell_type": "code",
   "execution_count": 483,
   "metadata": {},
   "outputs": [],
   "source": [
    "import numpy as np\n",
    "import pandas as pd\n",
    "import tensorflow as tf\n",
    "from sklearn.model_selection import train_test_split\n",
    "import time"
   ]
  },
  {
   "cell_type": "code",
   "execution_count": 501,
   "metadata": {},
   "outputs": [],
   "source": [
    "m = 10000\n",
    "terms_no = 11\n",
    "rnn_units = 20\n",
    "a = np.array([.6, .5, -.2][::-1])\n",
    "rcr_depth = a.size\n",
    "X = np.random.random((m,3))\n",
    "cols = X.shape[1]\n",
    "for i in range(cols, terms_no):\n",
    "    ut = np.random.random((m,1))*.1 * 0\n",
    "    X = np.append(X, X[:,-rcr_depth:].dot(a)[:, np.newaxis]+ut, axis=1)\n",
    "X = X.reshape(m, terms_no, 1)\n",
    "timesteps = terms_no-1"
   ]
  },
  {
   "cell_type": "code",
   "execution_count": 502,
   "metadata": {},
   "outputs": [],
   "source": [
    "tr_X, te_X, tr_y, te_y = train_test_split(X[:,:-1,[-1]], X[:,1:,[-1]], random_state=442, test_size=.2)"
   ]
  },
  {
   "cell_type": "code",
   "execution_count": 503,
   "metadata": {},
   "outputs": [],
   "source": [
    "#tr_X, te_X, tr_y, te_y = train_test_split(X[:,:-1], X[:,[-1]], random_state=442, test_size=.2)"
   ]
  },
  {
   "cell_type": "code",
   "execution_count": 504,
   "metadata": {
    "collapsed": true
   },
   "outputs": [],
   "source": [
    "run = 0"
   ]
  },
  {
   "cell_type": "code",
   "execution_count": 505,
   "metadata": {
    "scrolled": false
   },
   "outputs": [],
   "source": [
    "run += 1\n",
    "tf.reset_default_graph()\n",
    "with tf.device('/cpu:0'):\n",
    "    t_X = tf.placeholder(X.dtype, (None, timesteps, 1), 'input')\n",
    "    t_y = tf.placeholder(X.dtype, (None, timesteps, 1), 'target')\n",
    "#     x2sq = tf.unstack(t_X, timesteps, 1)\n",
    "#     y2sq = tf.unstack(t_y, timesteps, 1)\n",
    "    \n",
    "    RNN_cell = tf.contrib.rnn.BasicRNNCell(num_units=rnn_units) #, activation=tf.nn.relu)\n",
    "    rnn_o, state = tf.nn.dynamic_rnn(RNN_cell, t_X, dtype=X.dtype)\n",
    "    flat = tf.reshape(rnn_o, [-1, rnn_units])\n",
    "    dense = tf.layers.dense(flat, 1)\n",
    "    output = tf.reshape(dense, [-1, timesteps, 1])\n",
    "    loss = tf.reduce_mean(tf.square(tf.subtract(t_y, output)))\n",
    "    opt = tf.train.AdamOptimizer(learning_rate=.01).minimize(loss)\n",
    "#     init_state = tf.zeros(RNN_l.state_size, dtype=np.float64)\n",
    "#     output = RNN_l(t_X, init_state)\n",
    "tf.summary.scalar('loss', loss)\n",
    "writer = tf.summary.FileWriter('.log/run_{}'.format(run))\n",
    "merged_smr = tf.summary.merge_all()"
   ]
  },
  {
   "cell_type": "code",
   "execution_count": 506,
   "metadata": {},
   "outputs": [
    {
     "name": "stdout",
     "output_type": "stream",
     "text": [
      "time taken = 46.305506467819214\n"
     ]
    }
   ],
   "source": [
    "tm = time.time()\n",
    "\n",
    "\n",
    "epochs = 200\n",
    "with tf.Session() as sess:\n",
    "    sess.run(tf.global_variables_initializer())\n",
    "    for i in range(epochs):\n",
    "        smr = sess.run(merged_smr, feed_dict={t_X: tr_X, t_y: tr_y})\n",
    "        writer.add_summary(smr, i)\n",
    "        sess.run(opt, feed_dict={t_X: tr_X, t_y: tr_y})\n",
    "    rslt = sess.run(output, feed_dict={t_X: te_X})\n",
    "writer.close()\n",
    "\n",
    "print('time taken =', time.time()-tm)"
   ]
  },
  {
   "cell_type": "code",
   "execution_count": 507,
   "metadata": {
    "scrolled": true
   },
   "outputs": [
    {
     "data": {
      "text/plain": [
       "array([[ 0.13009607,  0.12884938],\n",
       "       [ 0.0238374 ,  0.0243486 ],\n",
       "       [ 0.04641526,  0.04655952],\n",
       "       [ 0.15592102,  0.15637569],\n",
       "       [-0.01800432, -0.01447365],\n",
       "       [ 0.44751766,  0.44470416],\n",
       "       [ 0.18739583,  0.18669188],\n",
       "       [ 0.11424729,  0.11296298],\n",
       "       [ 0.31291922,  0.3110876 ],\n",
       "       [ 0.45107271,  0.44768853],\n",
       "       [ 0.305316  ,  0.30591191],\n",
       "       [ 0.02753778,  0.02847668],\n",
       "       [ 0.20080299,  0.19989825],\n",
       "       [ 0.28766737,  0.28814277],\n",
       "       [ 0.28420331,  0.28485416],\n",
       "       [ 0.11779271,  0.11735892],\n",
       "       [ 0.34999164,  0.34825939],\n",
       "       [ 0.09510082,  0.0951478 ],\n",
       "       [ 0.45283154,  0.44940535],\n",
       "       [ 0.06747935,  0.06846034],\n",
       "       [ 0.32120002,  0.31932869],\n",
       "       [ 0.03912514,  0.03916878],\n",
       "       [ 0.2323829 ,  0.23128713],\n",
       "       [ 0.28262574,  0.28082225],\n",
       "       [ 0.11794063,  0.11973414],\n",
       "       [ 0.09810441,  0.09797827],\n",
       "       [ 0.23100026,  0.22942609],\n",
       "       [ 0.25863959,  0.25712182],\n",
       "       [ 0.27137783,  0.2717444 ],\n",
       "       [ 0.11951828,  0.11872538]])"
      ]
     },
     "execution_count": 507,
     "metadata": {},
     "output_type": "execute_result"
    }
   ],
   "source": [
    "np.insert(rslt[:,-1,[0]], [0], te_y[:,-1,[0]], axis=1)[:30]"
   ]
  },
  {
   "cell_type": "code",
   "execution_count": 509,
   "metadata": {},
   "outputs": [
    {
     "name": "stdout",
     "output_type": "stream",
     "text": [
      "Percentage of errors is 0.0\n"
     ]
    }
   ],
   "source": [
    "delta = np.abs(rslt[:,-1,[0]] - te_y[:,-1,[0]])\n",
    "print('Percentage of errors is', delta[np.where(delta>.01)].shape[0]/delta.shape[0] * 100)"
   ]
  },
  {
   "cell_type": "code",
   "execution_count": null,
   "metadata": {
    "collapsed": true
   },
   "outputs": [],
   "source": []
  }
 ],
 "metadata": {
  "kernelspec": {
   "display_name": "Python 3",
   "language": "python",
   "name": "python3"
  },
  "language_info": {
   "codemirror_mode": {
    "name": "ipython",
    "version": 3
   },
   "file_extension": ".py",
   "mimetype": "text/x-python",
   "name": "python",
   "nbconvert_exporter": "python",
   "pygments_lexer": "ipython3",
   "version": "3.6.3"
  }
 },
 "nbformat": 4,
 "nbformat_minor": 2
}

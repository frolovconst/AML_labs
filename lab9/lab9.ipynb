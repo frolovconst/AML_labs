{
 "cells": [
  {
   "cell_type": "code",
   "execution_count": 46,
   "metadata": {},
   "outputs": [],
   "source": [
    "import tensorflow as tf\n",
    "import numpy as np"
   ]
  },
  {
   "cell_type": "code",
   "execution_count": 47,
   "metadata": {},
   "outputs": [],
   "source": [
    "%reset"
   ]
  },
  {
   "cell_type": "code",
   "execution_count": 26,
   "metadata": {
    "collapsed": true
   },
   "outputs": [],
   "source": [
    "tf.reset_default_graph()"
   ]
  },
  {
   "cell_type": "code",
   "execution_count": 27,
   "metadata": {
    "collapsed": true
   },
   "outputs": [],
   "source": [
    "np.set_printoptions(linewidth=200)"
   ]
  },
  {
   "cell_type": "code",
   "execution_count": 28,
   "metadata": {
    "collapsed": true
   },
   "outputs": [],
   "source": [
    "x = tf.constant(1., name='x')"
   ]
  },
  {
   "cell_type": "code",
   "execution_count": 29,
   "metadata": {
    "collapsed": true
   },
   "outputs": [],
   "source": [
    "y = tf.constant(2., name='y')\n",
    "z = tf.constant(3., name='z')"
   ]
  },
  {
   "cell_type": "code",
   "execution_count": 30,
   "metadata": {
    "collapsed": true
   },
   "outputs": [],
   "source": [
    "c = tf.multiply(tf.add(x, y), z, name='c')"
   ]
  },
  {
   "cell_type": "code",
   "execution_count": null,
   "metadata": {
    "collapsed": true
   },
   "outputs": [],
   "source": []
  },
  {
   "cell_type": "code",
   "execution_count": 31,
   "metadata": {},
   "outputs": [],
   "source": [
    "data = np.loadtxt('data/weatherHistory.csv', skiprows=1 ,delimiter=',')"
   ]
  },
  {
   "cell_type": "code",
   "execution_count": 32,
   "metadata": {
    "collapsed": true
   },
   "outputs": [],
   "source": [
    "data_X = data[:,:-1]\n",
    "data_y = data[:,[-1]]"
   ]
  },
  {
   "cell_type": "code",
   "execution_count": 33,
   "metadata": {
    "collapsed": true
   },
   "outputs": [],
   "source": [
    "num_features = data_X.shape[1]\n",
    "w_shape = (num_features, 1)"
   ]
  },
  {
   "cell_type": "code",
   "execution_count": 34,
   "metadata": {
    "collapsed": true
   },
   "outputs": [],
   "source": [
    "X = tf.placeholder(shape=(None, num_features), dtype=np.float32, name='input')\n",
    "y = tf.placeholder(shape=(None, 1), dtype=np.float32, name='target')"
   ]
  },
  {
   "cell_type": "code",
   "execution_count": 35,
   "metadata": {},
   "outputs": [],
   "source": [
    "theta = tf.get_variable(shape=w_shape, dtype=np.float32, name='weights', initializer=None)\n",
    "b = tf.get_variable(shape=(1,1), dtype=np.float32, name='bias', initializer=None)"
   ]
  },
  {
   "cell_type": "code",
   "execution_count": 36,
   "metadata": {},
   "outputs": [],
   "source": [
    "h = tf.add(tf.matmul(X, theta), b)\n",
    "\n",
    "loss = tf.reduce_mean(tf.square(y-h), name='loss')"
   ]
  },
  {
   "cell_type": "code",
   "execution_count": 37,
   "metadata": {
    "collapsed": true
   },
   "outputs": [],
   "source": [
    "optimiser = tf.train.GradientDescentOptimizer(learning_rate=.1)\n",
    "# optimiser = tf.train.AdamOptimizer(learning_rate=.1)\n",
    "\n",
    "opt = optimiser.minimize(loss)"
   ]
  },
  {
   "cell_type": "code",
   "execution_count": 38,
   "metadata": {
    "collapsed": true
   },
   "outputs": [],
   "source": [
    "initialiser = tf.global_variables_initializer()\n",
    "inits = tf.local_variables_initializer()"
   ]
  },
  {
   "cell_type": "code",
   "execution_count": 44,
   "metadata": {
    "scrolled": false
   },
   "outputs": [
    {
     "name": "stdout",
     "output_type": "stream",
     "text": [
      "6294038000000000.0\n",
      "(65499, 1)\n",
      "2.8077221e+26\n",
      "(65499, 1)\n"
     ]
    }
   ],
   "source": [
    "epochs = 2\n",
    "with tf.Session() as sess:\n",
    "#     sess.run(initialiser)\n",
    "#     sess.run(inits)\n",
    "#     print(sess.run(tf.report_uninitialized_variables()))\n",
    "#     print(tf.trainable_variables())\n",
    "    sess.run(tf.global_variables_initializer())\n",
    "#     print(sess.run(loss, {X: data_X, y: data_y}))\n",
    "#     print(sess.run(b))\n",
    "    for i in range(epochs):\n",
    "        sess.run(opt, {X: data_X, y: data_y})\n",
    "        print(sess.run(loss, {X: data_X, y: data_y}))\n",
    "        print(sess.run(h-y, {X: data_X, y: data_y}).shape)\n",
    "#         sess.run(optimiser.apply_gradients(optimiser.compute_gradients(loss, {X: data_X, y: data_y})))\n",
    "#     print(sess.run(tf.report_uninitialized_variables()))\n",
    "    result = sess.run(loss, {X: data_X, y: data_y})\n",
    "#     print(sess.run(b))"
   ]
  },
  {
   "cell_type": "code",
   "execution_count": 108,
   "metadata": {},
   "outputs": [
    {
     "data": {
      "text/plain": [
       "nan"
      ]
     },
     "execution_count": 108,
     "metadata": {},
     "output_type": "execute_result"
    }
   ],
   "source": [
    "result"
   ]
  },
  {
   "cell_type": "code",
   "execution_count": null,
   "metadata": {
    "collapsed": true
   },
   "outputs": [],
   "source": []
  },
  {
   "cell_type": "code",
   "execution_count": null,
   "metadata": {
    "collapsed": true
   },
   "outputs": [],
   "source": []
  },
  {
   "cell_type": "code",
   "execution_count": null,
   "metadata": {
    "collapsed": true
   },
   "outputs": [],
   "source": []
  },
  {
   "cell_type": "code",
   "execution_count": 29,
   "metadata": {},
   "outputs": [
    {
     "data": {
      "text/plain": [
       "281706.06"
      ]
     },
     "execution_count": 29,
     "metadata": {},
     "output_type": "execute_result"
    }
   ],
   "source": [
    "result"
   ]
  }
 ],
 "metadata": {
  "kernelspec": {
   "display_name": "Python 3",
   "language": "python",
   "name": "python3"
  },
  "language_info": {
   "codemirror_mode": {
    "name": "ipython",
    "version": 3
   },
   "file_extension": ".py",
   "mimetype": "text/x-python",
   "name": "python",
   "nbconvert_exporter": "python",
   "pygments_lexer": "ipython3",
   "version": "3.6.1"
  }
 },
 "nbformat": 4,
 "nbformat_minor": 2
}

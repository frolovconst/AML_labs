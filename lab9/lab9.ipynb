{
 "cells": [
  {
   "cell_type": "code",
   "execution_count": 21,
   "metadata": {},
   "outputs": [
    {
     "name": "stdout",
     "output_type": "stream",
     "text": [
      "Once deleted, variables cannot be recovered. Proceed (y/[n])? y\n"
     ]
    }
   ],
   "source": [
    "%reset"
   ]
  },
  {
   "cell_type": "code",
   "execution_count": 1,
   "metadata": {},
   "outputs": [
    {
     "name": "stderr",
     "output_type": "stream",
     "text": [
      "/opt/anaconda3/lib/python3.6/site-packages/h5py/__init__.py:34: FutureWarning: Conversion of the second argument of issubdtype from `float` to `np.floating` is deprecated. In future, it will be treated as `np.float64 == np.dtype(float).type`.\n",
      "  from ._conv import register_converters as _register_converters\n"
     ]
    }
   ],
   "source": [
    "import tensorflow as tf\n",
    "import numpy as np\n",
    "from utils import load_data\n",
    "from sklearn.model_selection import train_test_split\n",
    "from sklearn.preprocessing import StandardScaler\n",
    "from sklearn.metrics import accuracy_score\n",
    "import matplotlib.pyplot as plt\n",
    "import os"
   ]
  },
  {
   "cell_type": "code",
   "execution_count": 2,
   "metadata": {
    "collapsed": true
   },
   "outputs": [],
   "source": [
    "os.environ['TF_CPP_MIN_LOG_LEVEL'] = '2'"
   ]
  },
  {
   "cell_type": "code",
   "execution_count": 3,
   "metadata": {
    "collapsed": true
   },
   "outputs": [],
   "source": [
    "tf.reset_default_graph()"
   ]
  },
  {
   "cell_type": "code",
   "execution_count": 4,
   "metadata": {
    "collapsed": true
   },
   "outputs": [],
   "source": [
    "np.set_printoptions(linewidth=200)"
   ]
  },
  {
   "cell_type": "code",
   "execution_count": 5,
   "metadata": {
    "scrolled": false
   },
   "outputs": [
    {
     "name": "stdout",
     "output_type": "stream",
     "text": [
      "9.0\n"
     ]
    }
   ],
   "source": [
    "with tf.device('/cpu:0'):\n",
    "    x = tf.constant(1., name='x')\n",
    "\n",
    "    y = tf.constant(2., name='y')\n",
    "    z = tf.constant(3., name='z')\n",
    "\n",
    "    c = tf.multiply(tf.add(x, y, name='x_p_y'), z, name='c')\n",
    "    \n",
    "    a = tf.get_variable('scalar', initializer=tf.constant(2))\n",
    "\n",
    "writer = tf.summary.FileWriter('./data/graph', tf.get_default_graph())\n",
    "with tf.Session()as sess:\n",
    "    print(sess.run(c))\n",
    "writer.close()"
   ]
  },
  {
   "cell_type": "code",
   "execution_count": 6,
   "metadata": {
    "collapsed": true
   },
   "outputs": [],
   "source": [
    "data = np.loadtxt('data/weatherHistory.csv', skiprows=1 ,delimiter=',')\n",
    "# data_X, data_y = load_data (\"data/weatherHistory.csv\")"
   ]
  },
  {
   "cell_type": "code",
   "execution_count": 7,
   "metadata": {
    "collapsed": true
   },
   "outputs": [],
   "source": [
    "tr_X, te_X, tr_y, te_y = train_test_split(data[:,:-1], data[:,[-1]], test_size=.2)\n",
    "# data_y = data[:,[-1]]"
   ]
  },
  {
   "cell_type": "markdown",
   "metadata": {},
   "source": [
    "# Linear regression"
   ]
  },
  {
   "cell_type": "code",
   "execution_count": 16,
   "metadata": {
    "collapsed": true
   },
   "outputs": [],
   "source": [
    "scaler = StandardScaler()\n",
    "tr_X = scaler.fit_transform(tr_X)\n",
    "te_X = scaler.transform(te_X)"
   ]
  },
  {
   "cell_type": "code",
   "execution_count": 8,
   "metadata": {
    "collapsed": true
   },
   "outputs": [],
   "source": [
    "num_features = tr_X.shape[1]\n",
    "w_shape = (num_features, 1)"
   ]
  },
  {
   "cell_type": "code",
   "execution_count": 9,
   "metadata": {
    "collapsed": true
   },
   "outputs": [],
   "source": [
    "X = tf.placeholder(shape=(None, num_features), dtype=tf.float32, name='input')\n",
    "y = tf.placeholder(shape=(None, 1), dtype=tf.float32, name='target')"
   ]
  },
  {
   "cell_type": "code",
   "execution_count": 10,
   "metadata": {
    "collapsed": true
   },
   "outputs": [],
   "source": [
    "# theta = tf.get_variable(shape=w_shape, dtype=tf.float32, name='weights', initializer=None)\n",
    "# b = tf.get_variable(shape=(1,1), dtype=tf.float32, name='bias', initializer=None)\n",
    "theta = tf.get_variable(shape=w_shape, dtype=tf.float32, name='weights', initializer=tf.zeros_initializer())\n",
    "b = tf.get_variable(shape=(1,1), dtype=tf.float32, name='bias', initializer=tf.zeros_initializer())"
   ]
  },
  {
   "cell_type": "code",
   "execution_count": 11,
   "metadata": {
    "collapsed": true
   },
   "outputs": [],
   "source": [
    "h = tf.matmul(X, theta) + b\n",
    "\n",
    "loss = tf.reduce_mean((y-h)**2, name='loss')"
   ]
  },
  {
   "cell_type": "code",
   "execution_count": 17,
   "metadata": {
    "collapsed": true
   },
   "outputs": [],
   "source": [
    "optimiser = tf.train.GradientDescentOptimizer(learning_rate=.1)\n",
    "# optimiser = tf.train.AdamOptimizer(learning_rate=.1)\n",
    "\n",
    "opt = optimiser.minimize(loss)"
   ]
  },
  {
   "cell_type": "code",
   "execution_count": 13,
   "metadata": {
    "collapsed": true
   },
   "outputs": [],
   "source": [
    "initialiser = tf.global_variables_initializer()\n",
    "inits = tf.local_variables_initializer()"
   ]
  },
  {
   "cell_type": "code",
   "execution_count": 18,
   "metadata": {},
   "outputs": [
    {
     "name": "stdout",
     "output_type": "stream",
     "text": [
      "[[0.]]\n",
      "[[0.]\n",
      " [0.]\n",
      " [0.]\n",
      " [0.]\n",
      " [0.]]\n",
      "234.169\n"
     ]
    }
   ],
   "source": [
    "epochs = 500\n",
    "with tf.Session(config=tf.ConfigProto(log_device_placement=True)) as sess:\n",
    "#     sess.run(initialiser)\n",
    "#     sess.run(inits)\n",
    "#     print(sess.run(tf.report_uninitialized_variables()))\n",
    "#     print(tf.trainable_variables())\n",
    "    sess.run(tf.global_variables_initializer())\n",
    "    t = sess.run(theta)\n",
    "    print(sess.run(b))\n",
    "    print(sess.run(theta))\n",
    "    t1 = sess.run(b)\n",
    "    print(sess.run(loss, {X: tr_X, y: tr_y}))\n",
    "    test_loss = []\n",
    "    train_loss = []\n",
    "    for i in range(epochs):\n",
    "        _, tr_loss = sess.run([opt, loss], {X: tr_X, y: tr_y})\n",
    "        te_loss = sess.run(loss, {X: te_X, y: te_y})\n",
    "        train_loss += [tr_loss]\n",
    "        test_loss += [te_loss]\n",
    "#         print(sess.run(loss, {X: te_X, y: te_y}))\n",
    "#         print(sess.run(h-y, {X: data_X, y: data_y}).shape)\n",
    "#         sess.run(optimiser.apply_gradients(optimiser.compute_gradients(loss, {X: data_X, y: data_y})))\n",
    "#     print(sess.run(tf.report_uninitialized_variables()))\n",
    "    result = sess.run(loss, {X: tr_X, y: tr_y})\n",
    "    th0 = sess.run(b)\n",
    "    tht = sess.run(theta)"
   ]
  },
  {
   "cell_type": "code",
   "execution_count": 19,
   "metadata": {},
   "outputs": [
    {
     "name": "stdout",
     "output_type": "stream",
     "text": [
      "[[-6.113933  ]\n",
      " [-1.44534   ]\n",
      " [ 0.30928013]\n",
      " [ 1.863026  ]\n",
      " [-0.4460406 ]] [[11.677569]]\n"
     ]
    }
   ],
   "source": [
    "print(tht, th0)"
   ]
  },
  {
   "cell_type": "code",
   "execution_count": 20,
   "metadata": {
    "scrolled": false
   },
   "outputs": [
    {
     "data": {
      "image/png": "[encoded data removed]",
      "text/plain": [
       "<matplotlib.figure.Figure at 0x7ff6bc161860>"
      ]
     },
     "metadata": {},
     "output_type": "display_data"
    },
    {
     "name": "stdout",
     "output_type": "stream",
     "text": [
      "train loss = 51.755047\n",
      "test loss = 54.022705\n"
     ]
    }
   ],
   "source": [
    "num_points = 500\n",
    "plt.plot(test_loss[:num_points], label='test')\n",
    "plt.plot(train_loss[:num_points], label='train')\n",
    "plt.grid()\n",
    "plt.legend()\n",
    "plt.show()\n",
    "print('train loss =', train_loss[-1])\n",
    "print('test loss =', test_loss[-1])"
   ]
  },
  {
   "cell_type": "code",
   "execution_count": null,
   "metadata": {
    "collapsed": true
   },
   "outputs": [],
   "source": []
  },
  {
   "cell_type": "code",
   "execution_count": null,
   "metadata": {
    "collapsed": true
   },
   "outputs": [],
   "source": []
  },
  {
   "cell_type": "markdown",
   "metadata": {},
   "source": [
    "# Logistic regression"
   ]
  },
  {
   "cell_type": "code",
   "execution_count": 126,
   "metadata": {
    "collapsed": true
   },
   "outputs": [],
   "source": [
    "data = np.loadtxt('data/candy.csv', skiprows=1 ,delimiter=',')\n",
    "# data_X, data_y = load_data (\"data/weatherHistory.csv\")"
   ]
  },
  {
   "cell_type": "code",
   "execution_count": 127,
   "metadata": {
    "collapsed": true
   },
   "outputs": [],
   "source": [
    "tr_X, te_X, tr_y, te_y = train_test_split(data[:,:-1], data[:,[-1]], test_size=.2)\n",
    "# data_y = data[:,[-1]]"
   ]
  },
  {
   "cell_type": "code",
   "execution_count": 187,
   "metadata": {
    "collapsed": true
   },
   "outputs": [],
   "source": [
    "tr_y = tr_y.astype(np.float32)\n",
    "tr_X = tr_X.astype(np.float32)\n",
    "te_y = te_y.astype(np.float32)\n",
    "te_X = te_X.astype(np.float32)"
   ]
  },
  {
   "cell_type": "code",
   "execution_count": 159,
   "metadata": {
    "collapsed": true
   },
   "outputs": [],
   "source": [
    "scaler = StandardScaler()\n",
    "tr_X = scaler.fit_transform(tr_X)\n",
    "te_X = scaler.transform(te_X)"
   ]
  },
  {
   "cell_type": "code",
   "execution_count": 160,
   "metadata": {
    "collapsed": true
   },
   "outputs": [],
   "source": [
    "num_features = tr_X.shape[1]\n",
    "w_shape = (num_features, 1)"
   ]
  },
  {
   "cell_type": "code",
   "execution_count": 301,
   "metadata": {
    "collapsed": true
   },
   "outputs": [],
   "source": [
    "tf.reset_default_graph()\n",
    "\n",
    "X = tf.placeholder(np.float32, (None, num_features), 'input')\n",
    "y = tf.placeholder(np.float32, (None, 1), 'label')\n",
    "\n",
    "weights = tf.get_variable('weights_log', (num_features, 1), tf.float32, initializer=tf.zeros_initializer())\n",
    "\n",
    "intercept = tf.get_variable('intercept', (1), tf.float32, initializer=tf.zeros_initializer())\n",
    "\n",
    "logits = tf.matmul(X, weights) + intercept\n",
    "reg_term = tf.square(tf.nn.l2_loss(weights))\n",
    "loss = tf.reduce_mean(tf.add(tf.nn.sigmoid_cross_entropy_with_logits(labels=y, logits=logits), tf.multiply(1., reg_term)), name='loss')\n",
    "\n",
    "hyp = tf.sigmoid(logits)\n",
    "\n",
    "preds = tf.round(hyp)"
   ]
  },
  {
   "cell_type": "code",
   "execution_count": 302,
   "metadata": {
    "collapsed": true
   },
   "outputs": [],
   "source": [
    "optimiser = tf.train.AdamOptimizer(learning_rate=.01).minimize(loss)"
   ]
  },
  {
   "cell_type": "code",
   "execution_count": 303,
   "metadata": {
    "scrolled": false
   },
   "outputs": [
    {
     "name": "stdout",
     "output_type": "stream",
     "text": [
      "0.6931472\n",
      "0.41103053\n"
     ]
    },
    {
     "data": {
      "image/png": "[encoded data removed]",
      "text/plain": [
       "<matplotlib.figure.Figure at 0x7f12f83bc828>"
      ]
     },
     "metadata": {},
     "output_type": "display_data"
    },
    {
     "name": "stdout",
     "output_type": "stream",
     "text": [
      "train loss = 0.4220629\n",
      "test loss = 0.41103053\n"
     ]
    }
   ],
   "source": [
    "epochs = 1000\n",
    "with tf.Session() as sess:\n",
    "    sess.run(tf.global_variables_initializer())\n",
    "    print(sess.run(loss, feed_dict={X: te_X, y: te_y}))\n",
    "    test_loss = []\n",
    "    train_loss = []\n",
    "    for i in range(epochs):\n",
    "        _, tr_loss = sess.run([optimiser, loss], feed_dict={X: tr_X, y: tr_y})\n",
    "        te_loss = sess.run(loss, {X: te_X, y: te_y})\n",
    "        train_loss += [tr_loss]\n",
    "        test_loss += [te_loss]\n",
    "    print(sess.run(loss, feed_dict={X: te_X, y: te_y}))\n",
    "    prd = sess.run(preds, feed_dict={X: te_X, y: te_y})\n",
    "\n",
    "num_points = epochs\n",
    "plt.plot(test_loss[:num_points], label='test')\n",
    "plt.plot(train_loss[:num_points], label='train')\n",
    "plt.grid()\n",
    "plt.legend()\n",
    "plt.show()\n",
    "print('train loss =', train_loss[-1])\n",
    "print('test loss =', test_loss[-1])"
   ]
  },
  {
   "cell_type": "code",
   "execution_count": 304,
   "metadata": {},
   "outputs": [
    {
     "data": {
      "text/plain": [
       "0.9411764705882353"
      ]
     },
     "execution_count": 304,
     "metadata": {},
     "output_type": "execute_result"
    }
   ],
   "source": [
    "accuracy_score(te_y, prd)"
   ]
  },
  {
   "cell_type": "code",
   "execution_count": null,
   "metadata": {
    "collapsed": true
   },
   "outputs": [],
   "source": []
  }
 ],
 "metadata": {
  "kernelspec": {
   "display_name": "Python 3",
   "language": "python",
   "name": "python3"
  },
  "language_info": {
   "codemirror_mode": {
    "name": "ipython",
    "version": 3
   },
   "file_extension": ".py",
   "mimetype": "text/x-python",
   "name": "python",
   "nbconvert_exporter": "python",
   "pygments_lexer": "ipython3",
   "version": "3.6.1"
  }
 },
 "nbformat": 4,
 "nbformat_minor": 2
}

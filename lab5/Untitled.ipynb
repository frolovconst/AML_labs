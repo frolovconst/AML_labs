{
 "cells": [
  {
   "cell_type": "code",
   "execution_count": 6,
   "metadata": {
    "scrolled": false
   },
   "outputs": [],
   "source": [
    "import matplotlib.pyplot as plt\n",
    "import numpy as np\n",
    "from sklearn.datasets import load_breast_cancer\n",
    "from sklearn.metrics import accuracy_score\n",
    "from sklearn.linear_model import LogisticRegression\n",
    "# import sklearn.plt as skplt"
   ]
  },
  {
   "cell_type": "code",
   "execution_count": 7,
   "metadata": {
    "collapsed": true
   },
   "outputs": [],
   "source": [
    "class ROC:\n",
    "    \"\"\"\n",
    "    ROC curve builder class.\n",
    "    Classes are assumed to be binary\n",
    "\n",
    "    \"\"\"\n",
    "    # results is an numpy array formed by stacking together fpr, tpr and corresponding thresholds.\n",
    "    # use results for analysis\n",
    "    results = None\n",
    "\n",
    "    def __init__(self, proba, true_labels, pos_label_value, pos_label=1):\n",
    "        \"\"\"\n",
    "        Use these values in calc_tpr_fpr() method\n",
    "\n",
    "        :param proba: numpy array of class probabilities\n",
    "        :param true_labels: numpy array of true labels\n",
    "        :param pos_label_value: The value of the positive label (usually 1)\n",
    "        :param pos_label: The relative order of positive label in proba\n",
    "        \"\"\"\n",
    "        self.proba = proba\n",
    "        self.true_labels = true_labels\n",
    "        self.pos_label_value = pos_label_value\n",
    "        self.pos_label = pos_label\n",
    "\n",
    "    def plot(self):\n",
    "        \"\"\"\n",
    "        Plots an ROC curve using True Positive Rate and False Positive rate lists calculated from __calc_tpr_fpr\n",
    "        Calculates and outputs AUC score on the same graph\n",
    "        \"\"\"\n",
    "        tpr, fpr, thresholds = self.__calc_tpr_fpr()\n",
    "        self.results = np.column_stack((tpr, fpr, thresholds))\n",
    "\n",
    "        # %%% TODO START YOUR CODE HERE %%%\n",
    "\n",
    "        # %%% END YOUR CODE HERE %%%\n",
    "\n",
    "    def __calc_tpr_fpr(self):\n",
    "        \"\"\"\n",
    "        Calculates True Positive Rate, False Positive Rate and thresholds lists\n",
    "\n",
    "        First, sorts probabilities of positive label in decreasing order\n",
    "        Next, moving towards the least probability locates a threshold between instances with opposite classes\n",
    "        (keeping instances with the same confidence value on the same side of threshold),\n",
    "        computes TPR, FPR for instances above threshold and puts them in the lists\n",
    "\n",
    "        :return:\n",
    "        tpr: list\n",
    "        fpr: list\n",
    "        thresholds: list\n",
    "        \"\"\"\n",
    "        # %%% TODO START YOUR CODE HERE %%%\n",
    "\n",
    "        # %%% END YOUR CODE HERE %%%"
   ]
  },
  {
   "cell_type": "code",
   "execution_count": 174,
   "metadata": {},
   "outputs": [],
   "source": [
    "def stratified_train_test_split(X, Y, test_size, random_seed=10):\n",
    "    \"\"\"\n",
    "    Performs the stratified train/test split\n",
    "    (with the same (!) inter-class ratio in train and test sets as compared to original set)\n",
    "    input:\n",
    "        X: numpy array of size (n,m)\n",
    "        Y: numpy array of size (n,)\n",
    "        test_size: number between 0 and 1, specifies the relative size of the test_set\n",
    "        random_seed: random_seed\n",
    "\n",
    "    returns:\n",
    "        X_train\n",
    "        X_test\n",
    "        Y_train\n",
    "        Y_test\n",
    "    \"\"\"\n",
    "    if test_size < 0 or test_size > 1:\n",
    "        raise Exception(\"Fraction for split is not valid\")\n",
    "\n",
    "    np.random.seed(random_seed)\n",
    "\n",
    "    # %%% TODO START YOUR CODE HERE %%%\n",
    "\n",
    "    positive_idx = np.where(Y==1)[0]\n",
    "    negative_idx = np.where(Y==0)[0]\n",
    "#     print(X[negative_idx][:,0].sum())\n",
    "#     positive_X = X[positive_idx]\n",
    "#     negative_X = X[negative_idx]\n",
    "#     positive_Y = Y[positive_idx]\n",
    "#     negative_Y = Y[negative_idx]\n",
    "    m = Y.size\n",
    "    m_pos_test = int(test_size*positive_idx.size)\n",
    "    m_neg_test = int(test_size*negative_idx.size)\n",
    "    m_test = m_pos_test + m_neg_test\n",
    "    test_idx_pos = np.random.choice(positive_idx, m_pos_test, replace=False)\n",
    "    test_idx_neg = np.random.choice(negative_idx, m_neg_test, replace=False)\n",
    "    train_idx_pos = np.where(~np.isin(positive_idx, test_idx_pos))[0]\n",
    "    print(train_idx_pos[:10])\n",
    "#     print(test_idx_pos.shape)\n",
    "    train_idx_neg = np.where(~np.isin(negative_idx, test_idx_neg))[0]\n",
    "#     print(test_idx_pos.size)\n",
    "#     print(test_idx_neg.size)\n",
    "#     print(m_test)\n",
    "#     print(test_idx_pos.size + train_idx_pos.size + test_idx_neg.size + train_idx_neg.size)\n",
    "    train_idx = np.append(train_idx_pos, train_idx_neg)\n",
    "\n",
    "    train_idx = np.random.choice(train_idx, train_idx.size, replace=False)\n",
    "    test_idx = np.append(test_idx_pos, test_idx_neg)\n",
    "    test_idx = np.random.choice(test_idx, m_test, replace=False)\n",
    "    print(X[train_idx][:,0].sum() + X[test_idx][:,0].sum())\n",
    "    print(train_idx.shape + test_idx.shape)\n",
    "    train_Y = Y[train_idx]\n",
    "    train_X = X[train_idx]\n",
    "    test_Y = Y[test_idx]\n",
    "    test_X = X[test_idx]\n",
    "#     train_Y = np.append(Y[train_idx_pos], Y[train_idx_neg], axis=0)\n",
    "#     train_Y = np.random.choice(train_Y, train_Y.size, replace=False)\n",
    "    print(train_X[train_Y==1][:,0].sum() + test_X[test_Y==1][:,0].sum() + train_X[train_Y==0][:,0].sum() + test_X[test_Y==0][:,0].sum())\n",
    "    print(train_Y.size + test_Y.size)\n",
    "    # %%% END YOUR CODE HERE %%%"
   ]
  },
  {
   "cell_type": "code",
   "execution_count": 76,
   "metadata": {
    "collapsed": true
   },
   "outputs": [],
   "source": [
    "data = load_breast_cancer()"
   ]
  },
  {
   "cell_type": "code",
   "execution_count": 77,
   "metadata": {
    "collapsed": true
   },
   "outputs": [],
   "source": [
    "# Pre-processing: Exchange labels - make malignant 1, benign 0\n",
    "data['target'] = np.array(data['target'], dtype=int) ^ 1"
   ]
  },
  {
   "cell_type": "code",
   "execution_count": 78,
   "metadata": {},
   "outputs": [],
   "source": [
    "Y = data['target']\n",
    "X = data['data']"
   ]
  },
  {
   "cell_type": "code",
   "execution_count": 173,
   "metadata": {
    "scrolled": false
   },
   "outputs": [
    {
     "data": {
      "text/plain": [
       "8038.4290000000001"
      ]
     },
     "execution_count": 173,
     "metadata": {},
     "output_type": "execute_result"
    }
   ],
   "source": [
    "X[:,0].sum()"
   ]
  },
  {
   "cell_type": "code",
   "execution_count": 175,
   "metadata": {},
   "outputs": [
    {
     "name": "stdout",
     "output_type": "stream",
     "text": [
      "[ 0  3  4  8  9 11 12 13 14 15]\n",
      "8177.228\n",
      "(399, 170)\n",
      "8177.228\n",
      "569\n"
     ]
    },
    {
     "ename": "TypeError",
     "evalue": "'NoneType' object is not iterable",
     "output_type": "error",
     "traceback": [
      "\u001b[0;31m---------------------------------------------------------------------------\u001b[0m",
      "\u001b[0;31mTypeError\u001b[0m                                 Traceback (most recent call last)",
      "\u001b[0;32m<ipython-input-175-ec7ce35a6320>\u001b[0m in \u001b[0;36m<module>\u001b[0;34m()\u001b[0m\n\u001b[0;32m----> 1\u001b[0;31m \u001b[0mX_train\u001b[0m\u001b[0;34m,\u001b[0m \u001b[0mX_test\u001b[0m\u001b[0;34m,\u001b[0m \u001b[0my_train\u001b[0m\u001b[0;34m,\u001b[0m \u001b[0my_test\u001b[0m \u001b[0;34m=\u001b[0m \u001b[0mstratified_train_test_split\u001b[0m\u001b[0;34m(\u001b[0m\u001b[0mX\u001b[0m\u001b[0;34m,\u001b[0m \u001b[0mY\u001b[0m\u001b[0;34m,\u001b[0m \u001b[0;36m0.3\u001b[0m\u001b[0;34m,\u001b[0m \u001b[0;36m10\u001b[0m\u001b[0;34m)\u001b[0m\u001b[0;34m\u001b[0m\u001b[0m\n\u001b[0m",
      "\u001b[0;31mTypeError\u001b[0m: 'NoneType' object is not iterable"
     ]
    }
   ],
   "source": [
    "X_train, X_test, y_train, y_test = stratified_train_test_split(X, Y, 0.3, 10)"
   ]
  },
  {
   "cell_type": "code",
   "execution_count": null,
   "metadata": {
    "collapsed": true
   },
   "outputs": [],
   "source": [
    "# Check that the ratio is preserved\n",
    "print(\"Inter-class ratio in original set:\", len(np.argwhere(data['target'] == 1))/len(np.argwhere(data['target'] == 0)))\n",
    "print(\"Inter-class ratio in train set:\", len(np.argwhere(y_train == 1))/len(np.argwhere(y_train == 0)))\n",
    "print(\"Inter-class ratio in test set:\", len(np.argwhere(y_test == 1))/len(np.argwhere(y_test == 0)))\n",
    "print('\\n')"
   ]
  },
  {
   "cell_type": "code",
   "execution_count": 9,
   "metadata": {},
   "outputs": [
    {
     "ename": "TypeError",
     "evalue": "'NoneType' object is not iterable",
     "output_type": "error",
     "traceback": [
      "\u001b[0;31m---------------------------------------------------------------------------\u001b[0m",
      "\u001b[0;31mTypeError\u001b[0m                                 Traceback (most recent call last)",
      "\u001b[0;32m<ipython-input-9-ebcb98c93b73>\u001b[0m in \u001b[0;36m<module>\u001b[0;34m()\u001b[0m\n\u001b[1;32m      4\u001b[0m \u001b[0mdata\u001b[0m\u001b[0;34m[\u001b[0m\u001b[0;34m'target'\u001b[0m\u001b[0;34m]\u001b[0m \u001b[0;34m=\u001b[0m \u001b[0mnp\u001b[0m\u001b[0;34m.\u001b[0m\u001b[0marray\u001b[0m\u001b[0;34m(\u001b[0m\u001b[0mdata\u001b[0m\u001b[0;34m[\u001b[0m\u001b[0;34m'target'\u001b[0m\u001b[0;34m]\u001b[0m\u001b[0;34m,\u001b[0m \u001b[0mdtype\u001b[0m\u001b[0;34m=\u001b[0m\u001b[0mint\u001b[0m\u001b[0;34m)\u001b[0m \u001b[0;34m^\u001b[0m \u001b[0;36m1\u001b[0m\u001b[0;34m\u001b[0m\u001b[0m\n\u001b[1;32m      5\u001b[0m \u001b[0;34m\u001b[0m\u001b[0m\n\u001b[0;32m----> 6\u001b[0;31m \u001b[0mX_train\u001b[0m\u001b[0;34m,\u001b[0m \u001b[0mX_test\u001b[0m\u001b[0;34m,\u001b[0m \u001b[0my_train\u001b[0m\u001b[0;34m,\u001b[0m \u001b[0my_test\u001b[0m \u001b[0;34m=\u001b[0m \u001b[0mstratified_train_test_split\u001b[0m\u001b[0;34m(\u001b[0m\u001b[0mdata\u001b[0m\u001b[0;34m[\u001b[0m\u001b[0;34m'data'\u001b[0m\u001b[0;34m]\u001b[0m\u001b[0;34m,\u001b[0m \u001b[0mdata\u001b[0m\u001b[0;34m[\u001b[0m\u001b[0;34m'target'\u001b[0m\u001b[0;34m]\u001b[0m\u001b[0;34m,\u001b[0m \u001b[0;36m0.3\u001b[0m\u001b[0;34m,\u001b[0m \u001b[0;36m10\u001b[0m\u001b[0;34m)\u001b[0m\u001b[0;34m\u001b[0m\u001b[0m\n\u001b[0m\u001b[1;32m      7\u001b[0m \u001b[0;34m\u001b[0m\u001b[0m\n\u001b[1;32m      8\u001b[0m \u001b[0;31m# Check that the ratio is preserved\u001b[0m\u001b[0;34m\u001b[0m\u001b[0;34m\u001b[0m\u001b[0m\n",
      "\u001b[0;31mTypeError\u001b[0m: 'NoneType' object is not iterable"
     ]
    }
   ],
   "source": [
    "# We pick Logistic Regression because it outputs probabilities\n",
    "# Try different number of iterations to change ROC curve\n",
    "model = LogisticRegression(max_iter=5)\n",
    "model.fit(X_train, y_train)\n",
    "probabilities = model.predict_proba(X_test)\n",
    "y_pred = model.predict(X_test)\n",
    "print(\"Classifier's Accuracy:\", accuracy_score(y_test, y_pred))\n",
    "\n",
    "# Build an ROC curve\n",
    "roc = ROC(probabilities, y_test, 1)\n",
    "roc.plot()\n",
    "# Explore the results\n",
    "results = roc.results\n",
    "\n",
    "# Use scikitplot library to compare ROC curve with the one you are getting\n",
    "skplt.metrics.plot_roc_curve(y_test, probabilities)\n",
    "plt.show()\n",
    "\n",
    "\n",
    "# ROC analysis questions:\n",
    "# 1. What are fpr, tpr rates if we choose 0.5 as a threshold?\n",
    "# %%% TODO Answer HERE %%%\n",
    "\n",
    "# 2. Let's suppose this is a second cancer check for those who have high probability of cancer.\n",
    "#    What threshold value will you use in this case and why?\n",
    "# %%% TODO Answer HERE %%%"
   ]
  },
  {
   "cell_type": "code",
   "execution_count": null,
   "metadata": {
    "collapsed": true
   },
   "outputs": [],
   "source": []
  }
 ],
 "metadata": {
  "kernelspec": {
   "display_name": "Python 3",
   "language": "python",
   "name": "python3"
  },
  "language_info": {
   "codemirror_mode": {
    "name": "ipython",
    "version": 3
   },
   "file_extension": ".py",
   "mimetype": "text/x-python",
   "name": "python",
   "nbconvert_exporter": "python",
   "pygments_lexer": "ipython3",
   "version": "3.6.1"
  }
 },
 "nbformat": 4,
 "nbformat_minor": 2
}

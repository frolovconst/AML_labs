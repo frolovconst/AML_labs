{
 "cells": [
  {
   "cell_type": "code",
   "execution_count": 1,
   "metadata": {},
   "outputs": [
    {
     "name": "stderr",
     "output_type": "stream",
     "text": [
      "/opt/anaconda3/lib/python3.6/site-packages/h5py/__init__.py:36: FutureWarning: Conversion of the second argument of issubdtype from `float` to `np.floating` is deprecated. In future, it will be treated as `np.float64 == np.dtype(float).type`.\n",
      "  from ._conv import register_converters as _register_converters\n"
     ]
    }
   ],
   "source": [
    "from utils import *\n",
    "import tensorflow as tf\n",
    "import matplotlib.pyplot as plt\n",
    "from sklearn.metrics import f1_score\n",
    "from sklearn.neighbors import KNeighborsClassifier"
   ]
  },
  {
   "cell_type": "code",
   "execution_count": 5,
   "metadata": {},
   "outputs": [
    {
     "name": "stdout",
     "output_type": "stream",
     "text": [
      "ANN f1-score = 0.8303571428571429\n"
     ]
    },
    {
     "name": "stderr",
     "output_type": "stream",
     "text": [
      "/opt/anaconda3/lib/python3.6/site-packages/ipykernel_launcher.py:55: DataConversionWarning: A column-vector y was passed when a 1d array was expected. Please change the shape of y to (n_samples, ), for example using ravel().\n"
     ]
    },
    {
     "name": "stdout",
     "output_type": "stream",
     "text": [
      "KNN f1-score = 0.8977777777777778\n"
     ]
    }
   ],
   "source": [
    "data = load_data('data/mnist_large.csv')\n",
    "\n",
    "X_data = data[0]\n",
    "\n",
    "Y_data = np.where(data[1]>5, 1, 0).astype(np.float64)\n",
    "\n",
    "n = X_data.shape[1]\n",
    "m = Y_data.size\n",
    "\n",
    "X_r, Y_r, X_e, Y_e = train_test_split(X_data, Y_data, .8)\n",
    "\n",
    "n_units = 100\n",
    "\n",
    "run_no=0\n",
    "\n",
    "tf.reset_default_graph()\n",
    "run_no += 1\n",
    "with tf.device('/cpu:0'):\n",
    "    X = tf.placeholder(X_data.dtype, (None, n), 'features')\n",
    "    Y = tf.placeholder(Y_data.dtype, (None, 1), 'label')\n",
    "    L1 = tf.layers.dense(inputs=X, units=n_units, activation=tf.nn.sigmoid, name='H1')\n",
    "    L2 = tf.layers.dense(inputs=L1, units=10, activation=tf.nn.sigmoid, name='H2')\n",
    "#     regularizer = tf.contrib.layers.l2_regularizer(scale=0.1)\n",
    "#     dropout = tf.layers.dropout(L1, 1)\n",
    "#     weights = tf.get_variable('o_weights', (n_units, 1), X.dtype, tf.random_uniform_initializer())\n",
    "#     logits = tf.m atmul(L1, weights)\n",
    "    BC = tf.layers.dense(inputs=L1, units=1, name='OUT')#, kernel_regularizer=tf.contrib.layers.l2_regularizer(scale=1))  \n",
    "    loss = tf.reduce_mean(tf.nn.sigmoid_cross_entropy_with_logits(labels=Y, logits=BC))\n",
    "    tf.summary.scalar('loss', loss)\n",
    "    optimiser = tf.train.GradientDescentOptimizer(learning_rate=.1).minimize(loss)\n",
    "    writer = tf.summary.FileWriter('data/.graph/run{}/train'.format(run_no), tf.get_default_graph())\n",
    "    test_writer = tf.summary.FileWriter('data/.graph/run{}/test'.format(run_no))\n",
    "    merged_smr = tf.summary.merge_all()\n",
    "    inference = tf.sigmoid(BC)\n",
    "\n",
    "epochs = 500\n",
    "losses = []\n",
    "with tf.Session() as sess:\n",
    "    sess.run(tf.global_variables_initializer())\n",
    "    for i in range(epochs):\n",
    "#         print(loss)\n",
    "        smr = sess.run(merged_smr, feed_dict={X: X_r, Y: Y_r})\n",
    "        writer.add_summary(smr, i)\n",
    "        smr = sess.run(merged_smr, feed_dict={X: X_e, Y: Y_e})\n",
    "        test_writer.add_summary(smr, i)\n",
    "        sess.run(optimiser, feed_dict={X: X_r, Y: Y_r})\n",
    "    prd = sess.run(inference, feed_dict={X: X_e, Y: Y_e})\n",
    "writer.close()\n",
    "\n",
    "prd = np.where(prd>.5, 1, 0)\n",
    "\n",
    "print('ANN f1-score =', f1_score(Y_e, prd))\n",
    "\n",
    "clf = KNeighborsClassifier(n_neighbors=3, weights='distance')\n",
    "clf.fit(X_r, Y_r.astype(int))\n",
    "\n",
    "k_prd = clf.predict(X_e)\n",
    "\n",
    "print('KNN f1-score =', f1_score(Y_e.astype(int), k_prd))"
   ]
  },
  {
   "cell_type": "code",
   "execution_count": null,
   "metadata": {
    "collapsed": true
   },
   "outputs": [],
   "source": []
  }
 ],
 "metadata": {
  "kernelspec": {
   "display_name": "Python 3",
   "language": "python",
   "name": "python3"
  },
  "language_info": {
   "codemirror_mode": {
    "name": "ipython",
    "version": 3
   },
   "file_extension": ".py",
   "mimetype": "text/x-python",
   "name": "python",
   "nbconvert_exporter": "python",
   "pygments_lexer": "ipython3",
   "version": "3.6.1"
  }
 },
 "nbformat": 4,
 "nbformat_minor": 2
}

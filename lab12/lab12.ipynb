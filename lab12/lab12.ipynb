{
 "cells": [
  {
   "cell_type": "code",
   "execution_count": 17,
   "metadata": {},
   "outputs": [],
   "source": [
    "import tensorflow as tf\n",
    "import numpy as np\n",
    "from sklearn.preprocessing import OneHotEncoder\n",
    "from sklearn.metrics import f1_score\n",
    "from time import time"
   ]
  },
  {
   "cell_type": "code",
   "execution_count": 2,
   "metadata": {
    "collapsed": true
   },
   "outputs": [
    {
     "name": "stdout",
     "output_type": "stream",
     "text": [
      "WARNING:tensorflow:From /opt/anaconda3/lib/python3.6/site-packages/tensorflow/contrib/learn/python/learn/datasets/base.py:198: retry (from tensorflow.contrib.learn.python.learn.datasets.base) is deprecated and will be removed in a future version.\n",
      "Instructions for updating:\n",
      "Use the retry module or similar alternatives.\n",
      "WARNING:tensorflow:From <ipython-input-2-ae6a6bd838a2>:1: load_dataset (from tensorflow.contrib.learn.python.learn.datasets) is deprecated and will be removed in a future version.\n",
      "Instructions for updating:\n",
      "Please use tf.data.\n",
      "WARNING:tensorflow:From /opt/anaconda3/lib/python3.6/site-packages/tensorflow/contrib/learn/python/learn/datasets/__init__.py:80: load_mnist (from tensorflow.contrib.learn.python.learn.datasets.mnist) is deprecated and will be removed in a future version.\n",
      "Instructions for updating:\n",
      "Please use alternatives such as official/mnist/dataset.py from tensorflow/models.\n",
      "WARNING:tensorflow:From /opt/anaconda3/lib/python3.6/site-packages/tensorflow/contrib/learn/python/learn/datasets/mnist.py:300: read_data_sets (from tensorflow.contrib.learn.python.learn.datasets.mnist) is deprecated and will be removed in a future version.\n",
      "Instructions for updating:\n",
      "Please use alternatives such as official/mnist/dataset.py from tensorflow/models.\n",
      "WARNING:tensorflow:From /opt/anaconda3/lib/python3.6/site-packages/tensorflow/contrib/learn/python/learn/datasets/mnist.py:260: maybe_download (from tensorflow.contrib.learn.python.learn.datasets.base) is deprecated and will be removed in a future version.\n",
      "Instructions for updating:\n",
      "Please write your own downloading logic.\n",
      "WARNING:tensorflow:From /opt/anaconda3/lib/python3.6/site-packages/tensorflow/contrib/learn/python/learn/datasets/mnist.py:262: extract_images (from tensorflow.contrib.learn.python.learn.datasets.mnist) is deprecated and will be removed in a future version.\n",
      "Instructions for updating:\n",
      "Please use tf.data to implement this functionality.\n",
      "Extracting MNIST-data/train-images-idx3-ubyte.gz\n",
      "WARNING:tensorflow:From /opt/anaconda3/lib/python3.6/site-packages/tensorflow/contrib/learn/python/learn/datasets/mnist.py:267: extract_labels (from tensorflow.contrib.learn.python.learn.datasets.mnist) is deprecated and will be removed in a future version.\n",
      "Instructions for updating:\n",
      "Please use tf.data to implement this functionality.\n",
      "Extracting MNIST-data/train-labels-idx1-ubyte.gz\n",
      "Extracting MNIST-data/t10k-images-idx3-ubyte.gz\n",
      "Extracting MNIST-data/t10k-labels-idx1-ubyte.gz\n",
      "WARNING:tensorflow:From /opt/anaconda3/lib/python3.6/site-packages/tensorflow/contrib/learn/python/learn/datasets/mnist.py:290: DataSet.__init__ (from tensorflow.contrib.learn.python.learn.datasets.mnist) is deprecated and will be removed in a future version.\n",
      "Instructions for updating:\n",
      "Please use alternatives such as official/mnist/dataset.py from tensorflow/models.\n"
     ]
    }
   ],
   "source": [
    "  mnist = tf.contrib.learn.datasets.load_dataset(\"mnist\")"
   ]
  },
  {
   "cell_type": "code",
   "execution_count": 7,
   "metadata": {
    "collapsed": true
   },
   "outputs": [],
   "source": [
    "X_tr = mnist.train.images\n",
    "y_tr = mnist.train.labels[:, np.newaxis]\n",
    "enc = OneHotEncoder()\n",
    "y_tr = enc.fit_transform(y_tr).toarray()\n",
    "X_te = mnist.test.images\n",
    "y_te = mnist.test.labels[:, np.newaxis]\n",
    "y_te = enc.transform(y_te).toarray()\n",
    "\n",
    "\n",
    "n_ftrs = X_tr.shape[1]\n",
    "\n",
    "X_tr = X_tr.reshape(-1, 28, 28, 1)\n",
    "X_te = X_te.reshape(-1, 28, 28, 1)"
   ]
  },
  {
   "cell_type": "code",
   "execution_count": 14,
   "metadata": {
    "collapsed": true
   },
   "outputs": [],
   "source": [
    "run=0"
   ]
  },
  {
   "cell_type": "code",
   "execution_count": 15,
   "metadata": {
    "collapsed": true
   },
   "outputs": [],
   "source": [
    "run += 1\n",
    "tf.reset_default_graph()\n",
    "with tf.device('/cpu:0'):\n",
    "    X = tf.placeholder(X_tr.dtype, (None, 28, 28, 1), 'attributes')\n",
    "    y = tf.placeholder(y_tr.dtype, (None, 10), 'labels')\n",
    "    filters = tf.get_variable('kernel', (5,5,1,1), X_tr.dtype, tf.random_normal_initializer(.0, .1))\n",
    "    CL = tf.layers.conv2d(X, 16, [5,5], 1, padding='SAME')\n",
    "#     CL = tf.nn.conv2d(input=X, filter=filters, strides=[1, 1, 1, 1], padding='SAME')\n",
    "    MP = tf.contrib.layers.max_pool2d(CL, [2,2])\n",
    "    pool_flatttened = tf.reshape(MP, [-1,16*14*14*1])\n",
    "    D = tf.layers.dense(pool_flatttened, units=100, activation=tf.nn.relu)\n",
    "    logits = tf.layers.dense(D, units=10)\n",
    "    loss = tf.reduce_mean(tf.nn.softmax_cross_entropy_with_logits_v2(logits=logits, labels=y))\n",
    "    optimiser = tf.train.GradientDescentOptimizer(learning_rate=.1).minimize(loss)\n",
    "    tf.summary.scalar('loss', loss)\n",
    "    inference = tf.nn.softmax(logits)\n",
    "writer = tf.summary.FileWriter('data/.graph/run_{}'.format(run), tf.get_default_graph())\n",
    "merged_smr = tf.summary.merge_all()\n"
   ]
  },
  {
   "cell_type": "code",
   "execution_count": 20,
   "metadata": {
    "scrolled": false
   },
   "outputs": [
    {
     "name": "stdout",
     "output_type": "stream",
     "text": [
      "Time taken = 188.75807213783264\n"
     ]
    }
   ],
   "source": [
    "epochs = 10\n",
    "batch_size = 500\n",
    "c_time = time()\n",
    "with tf.Session() as sess:\n",
    "    sess.run(tf.global_variables_initializer())\n",
    "    for i in range(epochs):\n",
    "        \n",
    "        for b in range(X_tr.shape[0] // batch_size):\n",
    "            \n",
    "            sess.run(optimiser, feed_dict={X: X_tr[b*batch_size : (b+1)*batch_size], y: y_tr[b*batch_size : (b+1)*batch_size]})\n",
    "        smr = sess.run(merged_smr, feed_dict={X: X_tr[i*batch_size : (i+1)*batch_size], y: y_tr[i*batch_size : (i+1)*batch_size]})\n",
    "        writer.add_summary(smr, i)\n",
    "    prd = sess.run(inference, feed_dict={X:X_te})\n",
    "writer.close()\n",
    "print('Time taken =', time()-c_time)"
   ]
  },
  {
   "cell_type": "code",
   "execution_count": 13,
   "metadata": {},
   "outputs": [
    {
     "data": {
      "text/plain": [
       "0.9425067531178242"
      ]
     },
     "execution_count": 13,
     "metadata": {},
     "output_type": "execute_result"
    }
   ],
   "source": [
    "f1_score(y_te.argmax(axis=1), prd.argmax(axis=1), average='weighted')"
   ]
  }
 ],
 "metadata": {
  "kernelspec": {
   "display_name": "Python 3",
   "language": "python",
   "name": "python3"
  },
  "language_info": {
   "codemirror_mode": {
    "name": "ipython",
    "version": 3
   },
   "file_extension": ".py",
   "mimetype": "text/x-python",
   "name": "python",
   "nbconvert_exporter": "python",
   "pygments_lexer": "ipython3",
   "version": "3.6.3"
  }
 },
 "nbformat": 4,
 "nbformat_minor": 2
}

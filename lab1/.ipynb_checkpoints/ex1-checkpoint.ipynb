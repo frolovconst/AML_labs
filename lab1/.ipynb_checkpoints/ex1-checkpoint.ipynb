{
 "cells": [
  {
   "cell_type": "code",
   "execution_count": 1,
   "metadata": {
    "collapsed": true
   },
   "outputs": [],
   "source": [
    "import numpy as np"
   ]
  },
  {
   "cell_type": "code",
   "execution_count": 2,
   "metadata": {
    "collapsed": true
   },
   "outputs": [],
   "source": [
    "#!/usr/bin/env python3\n",
    "# -*- coding: utf-8 -*-\n",
    "\n",
    "from pandas import read_csv"
   ]
  },
  {
   "cell_type": "code",
   "execution_count": 3,
   "metadata": {
    "collapsed": true
   },
   "outputs": [],
   "source": [
    "def load_data(path_to_csv, has_header = True):\n",
    "    '''\n",
    "    Loads a csv file, the last column is assumed to be the output\n",
    "    label 'yes'/'no'\n",
    "\n",
    "    returns: X - numpy array of size (n,m) of input features\n",
    "             Y - numpy array of output features\n",
    "    '''\n",
    "\n",
    "    if has_header:\n",
    "        data = read_csv(path_to_csv, header='infer')\n",
    "    else:\n",
    "        data = read_csv(path_to_csv, header = None)\n",
    "    data = data.as_matrix()\n",
    "    X = data[:,1:-1]\n",
    "    Y = data[:,-1]\n",
    "    return X,Y"
   ]
  },
  {
   "cell_type": "code",
   "execution_count": 59,
   "metadata": {
    "collapsed": true
   },
   "outputs": [],
   "source": [
    "X,Y = load_data(\"data_1.csv\")\n",
    "Y = Y=='yes'"
   ]
  },
  {
   "cell_type": "code",
   "execution_count": 108,
   "metadata": {},
   "outputs": [],
   "source": [
    "class FindS:\n",
    "\n",
    "    _rule = None\n",
    "    _uniqueShapes = None\n",
    "\n",
    "    def fit(self,training_data, class_label):\n",
    "        '''\n",
    "        Chooses the initial hypothesis from the first positive example\n",
    "        input: training_data - numpy array (n,m), m is the number of features\n",
    "                                n is the number of training samples\n",
    "               class_label - numpy array (n,)\n",
    "        '''\n",
    "\n",
    "        num_of_attrib = training_data.shape[1]\n",
    "        num_of_sample = training_data.shape[0]\n",
    "\n",
    "        hypothesis = self._init_hypothesis(training_data,class_label)\n",
    "\n",
    "        # the process of fitting the hypothesis of a concept with Find-S\n",
    "        # algorithm consist of iterating over the training data and\n",
    "        # verifying whether each of the attributes of the hypothesis satisfy\n",
    "        # all positive examples.\n",
    "        #\n",
    "        # to find the most general hypothesis you need to iterate over each\n",
    "        # positive example, iterate over all attributes, in case if the attribute\n",
    "        # of the hypothesis is different from the attribute of the current\n",
    "        # positive example we generalize the attribute by replacing it with '?'\n",
    "\n",
    "        # %%% START YOUR CODE HERE\n",
    "        n = training_data.shape[1]\n",
    "        for i in range(class_label.size):\n",
    "            if class_label[i] == True:\n",
    "                for j in range(n):\n",
    "                    if not np.isin(training_data[i,j], hypothesis[j,:]):\n",
    "                        self.replaceFirstEmpty(hypothesis[j,:], training_data[i,j])\n",
    "                \n",
    "\n",
    "\n",
    "\n",
    "\n",
    "        # %%% END YOUR CODE HERE\n",
    "\n",
    "        self._rule = hypothesis\n",
    "\n",
    "    def get_rule(self):\n",
    "        for i in range(self._rule.shape[0]):\n",
    "            if np.unique(self._rule[i]).size > self._uniqueShapes[i]:\n",
    "                print('?')\n",
    "            else:\n",
    "                print(self._rule[i][self._rule[i]!='-'])\n",
    "#         return self._rule\n",
    "\n",
    "    def _init_hypothesis(self,training_data,class_label):\n",
    "        '''\n",
    "        Chooses the initial hypothesis from the first positive example\n",
    "        input: training_data - numpy array (n,m), m is the number of features\n",
    "                                n is the number of training samples\n",
    "               class_label - numpy array (n,)\n",
    "        returns: hypothesis - feature vector of the first positive example\n",
    "        '''\n",
    "        hypothesis = None\n",
    "\n",
    "        # here you need to initialize the hypothesis to the values of the\n",
    "        # first positive training example\n",
    "\n",
    "        # %%% START YOUR CODE HERE %%%\n",
    "        n = training_data.shape[1]\n",
    "        max_unique = 0\n",
    "        self._uniqueShapes = np.zeros(n)\n",
    "        for i in range(n):\n",
    "            k = np.unique(training_data[:,i]).size\n",
    "            self._uniqueShapes[i] = k\n",
    "            if k>max_unique:\n",
    "                max_unique = k\n",
    "        hypothesis = np.full((n,max_unique), '-', str)\n",
    "\n",
    "        \n",
    "\n",
    "\n",
    "\n",
    "\n",
    "        # %%% END YOUR CODE HERE %%%\n",
    "\n",
    "        if hypothesis is None:\n",
    "            raise Exception(\"No positive example provided\")\n",
    "\n",
    "        return hypothesis\n",
    "\n",
    "    def predict():\n",
    "        raise NotImplemented\n",
    "        \n",
    "    def replaceFirstEmpty(self, array, value):\n",
    "        m = array.size\n",
    "        for i in range(m):\n",
    "            if array[i]=='-':\n",
    "                array[i] = value\n",
    "                break"
   ]
  },
  {
   "cell_type": "code",
   "execution_count": 79,
   "metadata": {},
   "outputs": [],
   "source": [
    "data = np.loadtxt('mushrooms.csv', dtype=str, skiprows=1, delimiter=',')"
   ]
  },
  {
   "cell_type": "code",
   "execution_count": 102,
   "metadata": {
    "collapsed": true
   },
   "outputs": [],
   "source": [
    "Ym = data[:,0]\n",
    "\n",
    "Ym = Ym=='p'\n",
    "Xm = data[:,1:]"
   ]
  },
  {
   "cell_type": "code",
   "execution_count": 109,
   "metadata": {},
   "outputs": [
    {
     "name": "stdout",
     "output_type": "stream",
     "text": [
      "Final Hypothesis:\n",
      "['x' 'f' 'b' 'k' 'c']\n",
      "?\n",
      "['n' 'w' 'g' 'p' 'y' 'e' 'b' 'c']\n",
      "?\n",
      "['p' 'f' 'c' 'y' 'n' 's' 'm']\n",
      "?\n",
      "?\n",
      "?\n",
      "['k' 'n' 'p' 'w' 'h' 'g' 'u' 'b' 'r' 'y']\n",
      "?\n",
      "['e' 'b' '?' 'c']\n",
      "?\n",
      "?\n",
      "['w' 'n' 'b' 'p' 'c' 'y']\n",
      "['w' 'b' 'p' 'n' 'y' 'c']\n",
      "?\n",
      "['w' 'y']\n",
      "?\n",
      "['p' 'l' 'e' 'n']\n",
      "['k' 'n' 'h' 'w' 'r']\n",
      "['s' 'v' 'y' 'c']\n",
      "['u' 'g' 'd' 'p' 'l' 'm']\n",
      "None\n"
     ]
    }
   ],
   "source": [
    "find_s = FindS()\n",
    "\n",
    "find_s.fit(Xm,Ym)\n",
    "\n",
    "print(\"Final Hypothesis:\" )\n",
    "print(find_s.get_rule())"
   ]
  }
 ],
 "metadata": {
  "kernelspec": {
   "display_name": "Python 3",
   "language": "python",
   "name": "python3"
  },
  "language_info": {
   "codemirror_mode": {
    "name": "ipython",
    "version": 3
   },
   "file_extension": ".py",
   "mimetype": "text/x-python",
   "name": "python",
   "nbconvert_exporter": "python",
   "pygments_lexer": "ipython3",
   "version": "3.6.1"
  }
 },
 "nbformat": 4,
 "nbformat_minor": 2
}

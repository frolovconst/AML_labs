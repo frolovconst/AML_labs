{
 "cells": [
  {
   "cell_type": "code",
   "execution_count": 165,
   "metadata": {
    "scrolled": false
   },
   "outputs": [],
   "source": [
    "import matplotlib.pyplot as plt\n",
    "import numpy as np\n",
    "from sklearn.datasets import load_breast_cancer\n",
    "from sklearn.metrics import accuracy_score\n",
    "from sklearn.linear_model import LogisticRegression\n",
    "import scikitplot as skplt"
   ]
  },
  {
   "cell_type": "code",
   "execution_count": 193,
   "metadata": {},
   "outputs": [],
   "source": [
    "class ROC:\n",
    "    \"\"\"\n",
    "    ROC curve builder class.\n",
    "    Classes are assumed to be binary\n",
    "\n",
    "    \"\"\"\n",
    "    # results is an numpy array formed by stacking together fpr, tpr and corresponding thresholds.\n",
    "    # use results for analysis\n",
    "    results = None\n",
    "\n",
    "    def __init__(self, proba, true_labels, pos_label_value, pos_label=1):\n",
    "        \"\"\"\n",
    "        Use these values in calc_tpr_fpr() method\n",
    "\n",
    "        :param proba: numpy array of class probabilities\n",
    "        :param true_labels: numpy array of true labels\n",
    "        :param pos_label_value: The value of the positive label (usually 1)\n",
    "        :param pos_label: The relative order of positive label in proba\n",
    "        \"\"\"\n",
    "        sortargs = proba.argsort()[::-1]\n",
    "        self.proba = proba[sortargs]\n",
    "        self.true_labels = true_labels[sortargs]\n",
    "        self.pos_label_value = pos_label_value\n",
    "        self.pos_label = pos_label\n",
    "\n",
    "    def plot(self):\n",
    "        \"\"\"\n",
    "        Plots an ROC curve using True Positive Rate and False Positive rate lists calculated from __calc_tpr_fpr\n",
    "        Calculates and outputs AUC score on the same graph\n",
    "        \"\"\"\n",
    "        tpr, fpr, thresholds, area = self.__calc_tpr_fpr()\n",
    "        self.results = np.column_stack((tpr, fpr, thresholds))\n",
    "\n",
    "        # %%% TODO START YOUR CODE HERE %%%\n",
    "        plt.plot(fpr, tpr, label='ROC curve of class 1. Area={:.3f}'.format(area))\n",
    "        plt.legend()\n",
    "        plt.show()\n",
    "        # %%% END YOUR CODE HERE %%%\n",
    "\n",
    "    def __calc_tpr_fpr(self):\n",
    "        \"\"\"\n",
    "        Calculates True Positive Rate, False Positive Rate and thresholds lists\n",
    "\n",
    "        First, sorts probabilities of positive label in decreasing order\n",
    "        Next, moving towards the least probability locates a threshold between instances with opposite classes\n",
    "        (keeping instances with the same confidence value on the same side of threshold),\n",
    "        computes TPR, FPR for instances above threshold and puts them in the lists\n",
    "\n",
    "        :return:\n",
    "        tpr: list\n",
    "        fpr: list\n",
    "        thresholds: list\n",
    "        \"\"\"\n",
    "        # %%% TODO START YOUR CODE HERE %%%\n",
    "        total_p = self.true_labels[self.true_labels==1].size\n",
    "        total_n = self.true_labels[self.true_labels==0].size\n",
    "        tpr = [0]\n",
    "        fpr = [0]\n",
    "        thresholds = [1]\n",
    "#         for i, item in enumerate(zip(self.proba, self.true_labels)):\n",
    "#             if i==0:\n",
    "#                 continue\n",
    "        crnt_lbl = 1\n",
    "        area = 0\n",
    "        printt = False\n",
    "        for i,y in enumerate(self.true_labels):\n",
    "            if y!=crnt_lbl:\n",
    "                crnt_lbl = y\n",
    "                new_fpr = self.true_labels[:i][self.true_labels[:i]==0].size/total_n\n",
    "                new_tpr = self.true_labels[:i][self.true_labels[:i]==1].size/total_p\n",
    "                area += (new_fpr-fpr[-1])*new_tpr\n",
    "                fpr += [new_fpr]\n",
    "                tpr += [new_tpr]\n",
    "                thresholds += [self.proba[i]]\n",
    "                if self.proba[i] <= .6 and not printt:\n",
    "                    print('threshold =', self.proba[i])\n",
    "                    print('fpr =', new_fpr)\n",
    "                    print('tpr =', new_tpr)\n",
    "                    printt = True\n",
    "            else:\n",
    "                continue\n",
    "        new_fpr = 1\n",
    "        new_tpr = tpr[-1]\n",
    "        area += (new_fpr-fpr[-1])*new_tpr\n",
    "        fpr += [new_fpr]\n",
    "        tpr += [new_tpr]\n",
    "        thresholds += [0]\n",
    "        return tpr, fpr, thresholds, area\n",
    "        # %%% END YOUR CODE HERE %%%"
   ]
  },
  {
   "cell_type": "code",
   "execution_count": 127,
   "metadata": {
    "collapsed": true
   },
   "outputs": [],
   "source": [
    "def stratified_train_test_split(X, Y, test_size, random_seed=10):\n",
    "    \"\"\"\n",
    "    Performs the stratified train/test split\n",
    "    (with the same (!) inter-class ratio in train and test sets as compared to original set)\n",
    "    input:\n",
    "        X: numpy array of size (n,m)\n",
    "        Y: numpy array of size (n,)\n",
    "        test_size: number between 0 and 1, specifies the relative size of the test_set\n",
    "        random_seed: random_seed\n",
    "\n",
    "    returns:\n",
    "        X_train\n",
    "        X_test\n",
    "        Y_train\n",
    "        Y_test\n",
    "    \"\"\"\n",
    "    if test_size < 0 or test_size > 1:\n",
    "        raise Exception(\"Fraction for split is not valid\")\n",
    "\n",
    "    np.random.seed(random_seed)\n",
    "\n",
    "    # %%% TODO START YOUR CODE HERE %%%\n",
    "\n",
    "    positive_idx = np.where(Y==1)[0]\n",
    "    negative_idx = np.where(Y==0)[0]\n",
    "    m = Y.size\n",
    "    m_test = int(m*test_size)\n",
    "    m_pos_test = int(test_size*positive_idx.size)\n",
    "    m_neg_test = m_test-m_pos_test\n",
    "    \n",
    "    test_idx_pos = np.random.choice(positive_idx, m_pos_test, replace=False)\n",
    "    test_idx_neg = np.random.choice(negative_idx, m_neg_test, replace=False)\n",
    "    train_idx_pos = positive_idx[np.where(~np.isin(positive_idx, test_idx_pos))[0]]\n",
    "    train_idx_neg = negative_idx[np.where(~np.isin(negative_idx, test_idx_neg))[0]]\n",
    "    train_idx = np.append(train_idx_pos, train_idx_neg)\n",
    "\n",
    "    train_idx = np.random.choice(train_idx, train_idx.size, replace=False)\n",
    "    test_idx = np.append(test_idx_pos, test_idx_neg)\n",
    "    test_idx = np.random.choice(test_idx, m_test, replace=False)\n",
    "    train_Y = Y[train_idx]\n",
    "    train_X = X[train_idx]\n",
    "    test_Y = Y[test_idx]\n",
    "    test_X = X[test_idx]\n",
    "    return train_X, test_X, train_Y, test_Y\n",
    "    # %%% END YOUR CODE HERE %%%"
   ]
  },
  {
   "cell_type": "code",
   "execution_count": 128,
   "metadata": {
    "collapsed": true
   },
   "outputs": [],
   "source": [
    "data = load_breast_cancer()"
   ]
  },
  {
   "cell_type": "code",
   "execution_count": 129,
   "metadata": {
    "collapsed": true
   },
   "outputs": [],
   "source": [
    "# Pre-processing: Exchange labels - make malignant 1, benign 0\n",
    "data['target'] = np.array(data['target'], dtype=int) ^ 1"
   ]
  },
  {
   "cell_type": "code",
   "execution_count": 130,
   "metadata": {
    "collapsed": true
   },
   "outputs": [],
   "source": [
    "Y = data['target']\n",
    "X = data['data']"
   ]
  },
  {
   "cell_type": "code",
   "execution_count": 131,
   "metadata": {
    "collapsed": true
   },
   "outputs": [],
   "source": [
    "X_train, X_test, y_train, y_test = stratified_train_test_split(X, Y, .3, 10)"
   ]
  },
  {
   "cell_type": "code",
   "execution_count": 132,
   "metadata": {},
   "outputs": [
    {
     "name": "stdout",
     "output_type": "stream",
     "text": [
      "Inter-class ratio in original set: 0.5938375350140056\n",
      "Inter-class ratio in train set: 0.596\n",
      "Inter-class ratio in test set: 0.5887850467289719\n",
      "\n",
      "\n"
     ]
    }
   ],
   "source": [
    "# Check that the ratio is preserved\n",
    "print(\"Inter-class ratio in original set:\", len(np.argwhere(data['target'] == 1))/len(np.argwhere(data['target'] == 0)))\n",
    "print(\"Inter-class ratio in train set:\", len(np.argwhere(y_train == 1))/len(np.argwhere(y_train == 0)))\n",
    "print(\"Inter-class ratio in test set:\", len(np.argwhere(y_test == 1))/len(np.argwhere(y_test == 0)))\n",
    "print('\\n')"
   ]
  },
  {
   "cell_type": "code",
   "execution_count": 168,
   "metadata": {},
   "outputs": [
    {
     "name": "stdout",
     "output_type": "stream",
     "text": [
      "Classifier's Accuracy: 0.929411764706\n"
     ]
    }
   ],
   "source": [
    "# We pick Logistic Regression because it outputs probabilities\n",
    "# Try different number of iterations to change ROC curve\n",
    "model = LogisticRegression(max_iter=5)\n",
    "model.fit(X_train, y_train)\n",
    "probabilities = model.predict_proba(X_test)\n",
    "y_pred = model.predict(X_test)\n",
    "print(\"Classifier's Accuracy:\", accuracy_score(y_test, y_pred))"
   ]
  },
  {
   "cell_type": "code",
   "execution_count": 194,
   "metadata": {},
   "outputs": [
    {
     "name": "stdout",
     "output_type": "stream",
     "text": [
      "threshold = 0.55912330929\n",
      "fpr = 0.018691588785046728\n",
      "tpr = 0.8888888888888888\n"
     ]
    },
    {
     "data": {
      "image/png": "[encoded data removed]",
      "text/plain": [
       "<matplotlib.figure.Figure at 0x7f7a03bdf2b0>"
      ]
     },
     "metadata": {},
     "output_type": "display_data"
    }
   ],
   "source": [
    "# Build an ROC curve\n",
    "roc = ROC(probabilities[:,1], y_test, 1)\n",
    "roc.plot()"
   ]
  },
  {
   "cell_type": "code",
   "execution_count": 171,
   "metadata": {},
   "outputs": [
    {
     "data": {
      "image/png": "[encoded data removed]",
      "text/plain": [
       "<matplotlib.figure.Figure at 0x7f7a03e80358>"
      ]
     },
     "metadata": {},
     "output_type": "display_data"
    }
   ],
   "source": [
    "# Explore the results\n",
    "results = roc.results\n",
    "\n",
    "# Use scikitplot library to compare ROC curve with the one you are getting\n",
    "skplt.metrics.plot_roc_curve(y_test, probabilities)\n",
    "plt.show()\n"
   ]
  },
  {
   "cell_type": "markdown",
   "metadata": {},
   "source": [
    "# ROC analysis questions:\n",
    "# 1. What are fpr, tpr rates if we choose 0.5 as a threshold?\n",
    "# according to data printed above, fpr = 0.019, tpr = 0.89"
   ]
  },
  {
   "cell_type": "markdown",
   "metadata": {},
   "source": [
    "# 2. Let's suppose this is a second cancer check for those who have high probability of cancer.\n",
    "#   What threshold value will you use in this case and why?\n",
    "\n",
    "# The threshold should be higher than before, as the probability of double fault (classifying healthy patient as ill) is low"
   ]
  },
  {
   "cell_type": "code",
   "execution_count": null,
   "metadata": {
    "collapsed": true
   },
   "outputs": [],
   "source": []
  }
 ],
 "metadata": {
  "kernelspec": {
   "display_name": "Python 3",
   "language": "python",
   "name": "python3"
  },
  "language_info": {
   "codemirror_mode": {
    "name": "ipython",
    "version": 3
   },
   "file_extension": ".py",
   "mimetype": "text/x-python",
   "name": "python",
   "nbconvert_exporter": "python",
   "pygments_lexer": "ipython3",
   "version": "3.6.3"
  }
 },
 "nbformat": 4,
 "nbformat_minor": 2
}

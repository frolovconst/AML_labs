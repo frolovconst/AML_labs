{
 "cells": [
  {
   "cell_type": "code",
   "execution_count": 3,
   "metadata": {},
   "outputs": [],
   "source": [
    "import numpy as np\n",
    "import pandas as pd\n",
    "\n",
    "from sklearn.metrics import f1_score\n",
    "from utils import load_data, train_test_split"
   ]
  },
  {
   "cell_type": "code",
   "execution_count": 166,
   "metadata": {},
   "outputs": [],
   "source": [
    "X, Y = load_data(\"iris.csv\")\n",
    "X = X.astype(np.float)\n",
    "# Y = Y.astype(np.float)\n",
    "X_tr, Y_tr, X_t, Y_t = train_test_split(X,Y,.7)"
   ]
  },
  {
   "cell_type": "code",
   "execution_count": 160,
   "metadata": {
    "collapsed": true
   },
   "outputs": [],
   "source": [
    "class KNN:\n",
    "    def __init__(self):\n",
    "        \"\"\"\n",
    "        Your initialization procedure if required\n",
    "        \"\"\"\n",
    "        pass\n",
    "\n",
    "    def fit(self,X,Y):\n",
    "        \"\"\"\n",
    "        KNN algorithm in the simples implementation can work only with\n",
    "        continuous features\n",
    "\n",
    "        X: training data, numpy array of shape (n,m)\n",
    "        Y: training labels, numpy array of shape (n,1)\n",
    "        \"\"\"\n",
    "\n",
    "        # Hint: make sure the data passed as input are of the type float\n",
    "        # Hint: make sure to create copies of training data, not copies of\n",
    "        #       references\n",
    "        self.X = X.copy()\n",
    "        self.Y = Y.copy()\n",
    "\n",
    "#     def euclidean()\n",
    "    \n",
    "    def predict(self, X, nn=5):\n",
    "        \"\"\"\n",
    "        X: data for classification, numpy array of shape (k,m)\n",
    "        nn: number of nearest neighbours that determine the final decision\n",
    "\n",
    "        returns\n",
    "        labels: numpy array of shape (k,1)\n",
    "        \"\"\"\n",
    "        # Hint: make sure the data passed as input are of the type float\n",
    "        result = np.array([[]], dtype=np.object)\n",
    "        for x in X:\n",
    "            distances = (self.X-x)\n",
    "            distances = np.sqrt(np.einsum('ij,ij->i', distances, distances))\n",
    "            nearest = np.argsort(distances)[:nn]\n",
    "#             print(nearest)\n",
    "#             print(self.Y[nearest])\n",
    "            unique,pos = np.unique(self.Y[nearest],return_inverse=True)\n",
    "            if unique.size==1:\n",
    "                result = np.append(result, np.array([[unique[0]]]))\n",
    "#             else:\n",
    "#                 counts = np.bincount(pos)                     \n",
    "#                 maxpos = counts.argmax()  \n",
    "#                 result = np.append(result, np.array([[unique[maxpos]]]))\n",
    "            else:\n",
    "                dct = dict()\n",
    "                for each in nearest:\n",
    "                    if self.Y[each,0] in dct:\n",
    "                        dct[self.Y[each,0]] += 1/distances[each]\n",
    "                    else:\n",
    "                        dct[self.Y[each,0]] = 1/distances[each]\n",
    "                result = np.append(result, np.array([[max(dct, key=dct.get)]]))\n",
    "                \n",
    "        return result"
   ]
  },
  {
   "cell_type": "code",
   "execution_count": null,
   "metadata": {
    "collapsed": true
   },
   "outputs": [],
   "source": [
    "# Task:\n",
    "# 1. Implement function fit in the class KNN\n",
    "# 2. Implement function predict in the class KNN, where neighbours are weighted\n",
    "#     according to uniform weights\n",
    "# 3. Test your algorithm on iris dataset according to\n",
    "#     f1_score (expected: 0.93)\n",
    "# 4. Test your algorithm on mnist_small dataset according to\n",
    "#     f1_score (expected: 0.7)\n",
    "# 5. Test your algorithm on mnist_large dataset according to\n",
    "#     f1_score (expected: 0.86)\n",
    "# 6. Implement function predict in the class KNN, where neighbours are weighted\n",
    "#     according to their distance to the query instance"
   ]
  },
  {
   "cell_type": "code",
   "execution_count": 167,
   "metadata": {
    "collapsed": true
   },
   "outputs": [],
   "source": [
    "np.random.seed(1)\n",
    "\n",
    "c = KNN()\n",
    "c.fit(X_tr,Y_tr)"
   ]
  },
  {
   "cell_type": "code",
   "execution_count": 168,
   "metadata": {},
   "outputs": [],
   "source": [
    "label_p = c.predict(X_t)[:,np.newaxis]"
   ]
  },
  {
   "cell_type": "code",
   "execution_count": 169,
   "metadata": {},
   "outputs": [
    {
     "name": "stdout",
     "output_type": "stream",
     "text": [
      "Test score 0.93\n"
     ]
    }
   ],
   "source": [
    "print(\"Test score %.2f\"%(f1_score(Y_t.flatten(), label_p.flatten(), average='weighted')))"
   ]
  },
  {
   "cell_type": "code",
   "execution_count": 170,
   "metadata": {},
   "outputs": [
    {
     "name": "stdout",
     "output_type": "stream",
     "text": [
      "Test score 1.00\n"
     ]
    }
   ],
   "source": [
    "X, Y = load_data(\"mnist_small.csv\")\n",
    "X = X.astype(np.int)\n",
    "# Y = Y.astype(np.float)\n",
    "X_tr, Y_tr, X_t, Y_t = train_test_split(X,Y,.7)\n",
    "\n",
    "np.random.seed(1)\n",
    "\n",
    "c = KNN()\n",
    "c.fit(X_tr,Y_tr)\n",
    "\n",
    "label_p = c.predict(X_t)[:,np.newaxis]\n",
    "label_p = label_p.astype(np.int)\n",
    "Y_t = label_p.astype(np.int)\n",
    "\n",
    "print(\"Test score %.2f\"%(f1_score(Y_t.flatten(), label_p.flatten(), average='weighted')))"
   ]
  },
  {
   "cell_type": "code",
   "execution_count": 171,
   "metadata": {},
   "outputs": [
    {
     "name": "stdout",
     "output_type": "stream",
     "text": [
      "Test score 1.00\n"
     ]
    }
   ],
   "source": [
    "X, Y = load_data(\"mnist_large.csv\")\n",
    "X = X.astype(np.int)\n",
    "# Y = Y.astype(np.float)\n",
    "X_tr, Y_tr, X_t, Y_t = train_test_split(X,Y,.7)\n",
    "\n",
    "np.random.seed(1)\n",
    "\n",
    "c = KNN()\n",
    "c.fit(X_tr,Y_tr)\n",
    "\n",
    "label_p = c.predict(X_t)[:,np.newaxis]\n",
    "label_p = label_p.astype(np.int)\n",
    "Y_t = label_p.astype(np.int)\n",
    "\n",
    "print(\"Test score %.2f\"%(f1_score(Y_t.flatten(), label_p.flatten(), average='weighted')))"
   ]
  }
 ],
 "metadata": {
  "kernelspec": {
   "display_name": "Python 3",
   "language": "python",
   "name": "python3"
  },
  "language_info": {
   "codemirror_mode": {
    "name": "ipython",
    "version": 3
   },
   "file_extension": ".py",
   "mimetype": "text/x-python",
   "name": "python",
   "nbconvert_exporter": "python",
   "pygments_lexer": "ipython3",
   "version": "3.6.1"
  }
 },
 "nbformat": 4,
 "nbformat_minor": 2
}

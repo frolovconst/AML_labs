{
 "cells": [
  {
   "cell_type": "code",
   "execution_count": 1,
   "metadata": {},
   "outputs": [
    {
     "name": "stderr",
     "output_type": "stream",
     "text": [
      "/opt/anaconda3/lib/python3.6/site-packages/h5py/__init__.py:34: FutureWarning: Conversion of the second argument of issubdtype from `float` to `np.floating` is deprecated. In future, it will be treated as `np.float64 == np.dtype(float).type`.\n",
      "  from ._conv import register_converters as _register_converters\n"
     ]
    },
    {
     "name": "stdout",
     "output_type": "stream",
     "text": [
      "WARNING:tensorflow:From /opt/anaconda3/lib/python3.6/site-packages/tensorflow/contrib/learn/python/learn/datasets/base.py:198: retry (from tensorflow.contrib.learn.python.learn.datasets.base) is deprecated and will be removed in a future version.\n",
      "Instructions for updating:\n",
      "Use the retry module or similar alternatives.\n"
     ]
    }
   ],
   "source": [
    "from utils import load_data, get_current_time, create_dirs, \\\n",
    "    create_minibatches, write_to_tensorboard, \\\n",
    "    create_summary_and_projector, create_evaluation_tensor\n",
    "import tensorflow as tf\n",
    "import os"
   ]
  },
  {
   "cell_type": "code",
   "execution_count": 36,
   "metadata": {},
   "outputs": [
    {
     "name": "stdout",
     "output_type": "stream",
     "text": [
      "/home/frolovconst/Dvlpt/prj/Python/AML_labs/lab13/data/.log\n",
      "Extracting ./data/train-images-idx3-ubyte.gz\n",
      "Extracting ./data/train-labels-idx1-ubyte.gz\n"
     ]
    }
   ],
   "source": [
    "# this project uses tensorboard. You can launch tensorboard by executing\n",
    "# \"tensorboard --logdir=log\" in your project folder\n",
    "\n",
    "# Set parameters\n",
    "learning_rate = 0.001\n",
    "minibatch_size = 125\n",
    "num_epochs = 20\n",
    "latent_space_size = 2\n",
    "log_dir = \"data/.log\"\n",
    "current_run = get_current_time()\n",
    "\n",
    "# Create necessary directories\n",
    "log_path, run_path = create_dirs(log_dir, current_run)\n",
    "\n",
    "# Load MNIST data\n",
    "imgs, lbls = load_data()\n",
    "mbs = create_minibatches(imgs, lbls, minibatch_size)\n",
    "\n",
    "# Prepare evaluation set\n",
    "# this set is used to visualize embedding space and decoding results\n",
    "evaluation_set = mbs[0]\n",
    "evaluation_shape = (minibatch_size, latent_space_size)"
   ]
  },
  {
   "cell_type": "code",
   "execution_count": 37,
   "metadata": {
    "collapsed": true
   },
   "outputs": [],
   "source": [
    "def create_model(input_shape):\n",
    "    \"\"\"\n",
    "    Create a simple autoencoder model. Input is assumed to be an image\n",
    "    :param input_shape: expects the input in format (height, width, n_channels)\n",
    "    :return: dictionary with tensors required to train and evaluate the model\n",
    "    \"\"\"\n",
    "    h, w, c = input_shape\n",
    "\n",
    "\n",
    "    # %%%\n",
    "    inpt = tf.placeholder(tf.float32, (None,h,w,c), 'attributes')\n",
    "    inpt_flattenned = tf.contrib.layers.flatten(inpt) #tf.reshape(inpt, [-1, h*w*c])\n",
    "    H1 = tf.layers.dense(inpt_flattenned, units=200, activation=tf.sigmoid)\n",
    "    H2 = tf.layers.dense(H1, units=20, activation=tf.sigmoid)\n",
    "    encoding = tf.layers.dense(H2, units=latent_space_size, activation=tf.nn.sigmoid)\n",
    "    H22 = tf.layers.dense(encoding, units=20, activation=tf.sigmoid)\n",
    "    H11 = tf.layers.dense(H22, units=200, activation=tf.nn.sigmoid)\n",
    "    dec_flt = tf.layers.dense(H11, units=h*w*c)\n",
    "    decode = tf.reshape(dec_flt, [-1, h,w,c])\n",
    "#     cost = tf.reduce_mean(tf.nn.sigmoid_cross_entropy_with_logits(logits=dec_flt, labels=tf.sigmoid(inpt_flattenned)))\n",
    "    cost = tf.reduce_mean(tf.square(dec_flt-inpt_flattenned))\n",
    "    # %%%\n",
    "\n",
    "    model = {'cost': cost,\n",
    "             'input': inpt,\n",
    "             'enc': encoding,\n",
    "             'dec': decode\n",
    "             }\n",
    "    return model"
   ]
  },
  {
   "cell_type": "code",
   "execution_count": 38,
   "metadata": {
    "scrolled": false
   },
   "outputs": [
    {
     "name": "stdout",
     "output_type": "stream",
     "text": [
      "Initializing model\n",
      "Epoch: 1/20 batch cost: 0.0631\n",
      "Epoch: 2/20 batch cost: 0.0620\n",
      "Epoch: 3/20 batch cost: 0.0616\n",
      "Epoch: 4/20 batch cost: 0.0614\n",
      "Epoch: 5/20 batch cost: 0.0593\n",
      "Epoch: 6/20 batch cost: 0.0587\n",
      "Epoch: 7/20 batch cost: 0.0584\n",
      "Epoch: 8/20 batch cost: 0.0580\n",
      "Epoch: 9/20 batch cost: 0.0572\n",
      "Epoch: 10/20 batch cost: 0.0552\n",
      "Epoch: 11/20 batch cost: 0.0541\n",
      "Epoch: 12/20 batch cost: 0.0534\n",
      "Epoch: 13/20 batch cost: 0.0528\n",
      "Epoch: 14/20 batch cost: 0.0522\n",
      "Epoch: 15/20 batch cost: 0.0517\n",
      "Epoch: 16/20 batch cost: 0.0511\n",
      "Epoch: 17/20 batch cost: 0.0505\n",
      "Epoch: 18/20 batch cost: 0.0500\n",
      "Epoch: 19/20 batch cost: 0.0495\n",
      "Epoch: 20/20 batch cost: 0.0491\n"
     ]
    }
   ],
   "source": [
    "# Create model and tensors for evaluation\n",
    "input_shape = (28, 28, 1)\n",
    "model = create_model(input_shape)\n",
    "evaluation = create_evaluation_tensor(model, evaluation_shape)\n",
    "\n",
    "# Create optimizer\n",
    "opt = tf.train.AdamOptimizer(learning_rate).minimize(model['cost'])\n",
    "\n",
    "# Create tensors for visualizing with tensorboard\n",
    "# https://www.tensorflow.org/programmers_guide/saved_model\n",
    "saver = tf.train.Saver()\n",
    "for_tensorboard = create_summary_and_projector(model, evaluation, evaluation_set, run_path)\n",
    "\n",
    "tf.set_random_seed(1)\n",
    "with tf.Session() as sess:\n",
    "    # Save graph\n",
    "    # https: // www.tensorflow.org / programmers_guide / graph_viz\n",
    "    train_writer = tf.summary.FileWriter(run_path, sess.graph)\n",
    "\n",
    "    print(\"Initializing model\")\n",
    "    sess.run(tf.global_variables_initializer())\n",
    "\n",
    "    for e in range(num_epochs):\n",
    "        # iterate through minibatches\n",
    "        for mb in mbs:\n",
    "            batch_cost, _ = sess.run([model['cost'], opt],\n",
    "                                     feed_dict={model['input']: mb[0]})\n",
    "\n",
    "        # write current results to log\n",
    "        write_to_tensorboard(sess, train_writer, for_tensorboard, evaluation_set, evaluation, e)\n",
    "        # save trained model\n",
    "        saver.save(sess, os.path.join(run_path, \"model.ckpt\"))\n",
    "\n",
    "        print(\"Epoch: {}/{}\".format(e+1, num_epochs),\n",
    "              \"batch cost: {:.4f}\".format(batch_cost))"
   ]
  },
  {
   "cell_type": "code",
   "execution_count": null,
   "metadata": {
    "collapsed": true
   },
   "outputs": [],
   "source": []
  }
 ],
 "metadata": {
  "kernelspec": {
   "display_name": "Python 3",
   "language": "python",
   "name": "python3"
  },
  "language_info": {
   "codemirror_mode": {
    "name": "ipython",
    "version": 3
   },
   "file_extension": ".py",
   "mimetype": "text/x-python",
   "name": "python",
   "nbconvert_exporter": "python",
   "pygments_lexer": "ipython3",
   "version": "3.6.3"
  }
 },
 "nbformat": 4,
 "nbformat_minor": 2
}

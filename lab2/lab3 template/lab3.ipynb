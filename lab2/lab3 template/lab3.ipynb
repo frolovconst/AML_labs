{
 "cells": [
  {
   "cell_type": "code",
   "execution_count": 1,
   "metadata": {
    "collapsed": true
   },
   "outputs": [],
   "source": [
    "from pandas import read_csv\n",
    "import numpy as np"
   ]
  },
  {
   "cell_type": "code",
   "execution_count": 2,
   "metadata": {
    "collapsed": true
   },
   "outputs": [],
   "source": [
    "def load_data(path_to_csv, has_header=True):\n",
    "    if has_header:\n",
    "        data = read_csv(path_to_csv, header='infer')\n",
    "    else:\n",
    "        data = read_csv(path_to_csv, header=None)\n",
    "    data = data.as_matrix()\n",
    "    X = data[:, 0:-1]\n",
    "    Y = data[:, -1]\n",
    "    return X, Y"
   ]
  },
  {
   "cell_type": "code",
   "execution_count": 103,
   "metadata": {
    "collapsed": true
   },
   "outputs": [],
   "source": [
    "class CandidateElimination:\n",
    "\n",
    "    # candidate elimination algorithm\n",
    "    def fit(self, training_data, labels):\n",
    "        S = self.initialize_to_first_positive(training_data, labels)\n",
    "        G = self.initialize_to_most_general(training_data)\n",
    "        training_examples = len(training_data)\n",
    "        for i in range(training_examples):\n",
    "            if labels[i] == \"yes\":\n",
    "                G = [g for g in G if self.is_consistent(training_data[i], g, True)]\n",
    "                not_consistent = [s for s in S if not self.is_consistent(training_data[i], s, True)]\n",
    "                S = [s for s in S if self.is_consistent(training_data[i], s, True)]\n",
    "                for n in not_consistent:\n",
    "                    self.add_min_generalization(n, training_data[i], G, S)\n",
    "                S = [s for s in S if not self.is_more_general_than_any(s, S)]\n",
    "            else:\n",
    "                S = [s for s in S if self.is_consistent(training_data[i], s, False)]\n",
    "                not_consistent = [g for g in G if not self.is_consistent(training_data[i], g, False)]\n",
    "                G = [g for g in G if self.is_consistent(training_data[i], g, False)]\n",
    "                for n in not_consistent:\n",
    "                    self.add_min_specialization(n, training_data[i], S, G, training_data)\n",
    "                G = [g for g in G if not self.is_less_general_than_any(g, G)]\n",
    "        print(\"Final Version Space:\")\n",
    "        print(\"S: \", S)\n",
    "        print(\"G: \", G)\n",
    "\n",
    "    def initialize_to_first_positive(self, training_data, labels):\n",
    "        \"\"\"\"\n",
    "        Returns list with one hypothesis which is equal to the first positive example\n",
    "        \"\"\"\n",
    "        for i in range(len(labels)):\n",
    "            if labels[i] == 'yes':\n",
    "                init_set = [training_data[i, :]]\n",
    "                return init_set\n",
    "\n",
    "    def initialize_to_most_general(self, training_data):\n",
    "        \"\"\"\"\n",
    "        Returns list with one most general hypothesis - ['?', '?', '?', '?'...]\n",
    "        \"\"\"\n",
    "        hypothesis = []\n",
    "        for i in range(training_data.shape[1]):\n",
    "            hypothesis.append(\"?\")\n",
    "        return [np.array(hypothesis, dtype=object)]\n",
    "\n",
    "    def is_consistent(self, training_example, hypothesis, is_positive):\n",
    "        \"\"\"\"\n",
    "        Returns True if the hypothesis classifies the training_example as:\n",
    "            - positive if it's positive\n",
    "            - negative if it's negative\n",
    "        \"\"\"\n",
    "        # %%% TODO START YOUR CODE HERE %%%\n",
    "\n",
    "        n = training_example.size\n",
    "        if is_positive == True:\n",
    "            for i in range(n):\n",
    "                if hypothesis[i]!='?' and hypothesis[i]!=training_example[i]:\n",
    "                    return False\n",
    "            return True\n",
    "        else:\n",
    "            for i in range(n):\n",
    "                if hypothesis[i]!=training_example[i] and hypothesis[i]!='?' :\n",
    "                    return True\n",
    "            return False\n",
    "        # %%% END YOUR CODE HERE %%%\n",
    "    \n",
    "\n",
    "    def add_min_generalization(self, hypothesis, training_example, G, S):\n",
    "        \"\"\"\n",
    "        Makes the hypothesis consistent with training_example\n",
    "        Adds it to S if some member of G is more general\n",
    "        \"\"\"\n",
    "        # %%% TODO START YOUR CODE HERE %%%\n",
    "\n",
    "\n",
    "        # %%% END YOUR CODE HERE %%%\n",
    "\n",
    "    def is_more_general_than_any(self, hypothesis, set):\n",
    "        \"\"\"\n",
    "        Checks if the hypothesis is more general than any hypothesis in the set\n",
    "        \"\"\"\n",
    "        for h in set:\n",
    "            if self.is_more_general(hypothesis, h):\n",
    "                return True\n",
    "        return False\n",
    "\n",
    "    def add_min_specialization(self, hypothesis, negative_example, S, G, training_data):\n",
    "        \"\"\"\n",
    "        Generates all possible minimal specializations by replacing '?' by all possible values except for value in negative example\n",
    "        Adds each such specialization to G if some member of S is more specific than the specialization\n",
    "        \"\"\"\n",
    "        # %%% TODO START YOUR CODE HERE %%%\n",
    "        n = hypothesis.size\n",
    "        unique_els = [np.unique(training_data[:,idx]) for idx in range(n)]\n",
    "#         print(unique_els)\n",
    "        new_S = list()\n",
    "        for i in range(n):\n",
    "            if hypothesis[i] == '?':\n",
    "                for v in unique_els[i][unique_els[i]!=negative_example[i]]:\n",
    "#                     if v==negative_example[i]:\n",
    "#                         continue\n",
    "#                     print(v)\n",
    "                    new_h = hypothesis.copy()\n",
    "                    new_h[i] = v\n",
    "                    new_S += (new_h,)\n",
    "        return new_S\n",
    "        # %%% END YOUR CODE HERE %%%\n",
    "\n",
    "\n",
    "    def is_less_general_than_any(self, hypothesis, set):\n",
    "        \"\"\"\n",
    "        Checks if the hypothesis is less general than any hypothesis in the set\n",
    "        \"\"\"\n",
    "        for h in set:\n",
    "            if self.is_more_general(h, hypothesis):\n",
    "                return True\n",
    "        return False\n",
    "\n",
    "    def is_more_general(self, hypothesis1, hypothesis2):\n",
    "        \"\"\"\n",
    "        Returns True if hypothesis1 is more general than hypothesis2\n",
    "        \"\"\"\n",
    "        # %%% TODO START YOUR CODE HERE %%%\n",
    "        more_gen = False\n",
    "        for idx, el in enumerate(hypothesis1):\n",
    "            if hypothesis1[idx] != hypothesis2[idx]:\n",
    "                if hypothesis1[idx] == '?':\n",
    "                    more_gen = True\n",
    "                    continue\n",
    "                else:\n",
    "                    return False\n",
    "        return more_gen\n",
    "\n",
    "        # %%% END YOUR CODE HERE %%%\n",
    "\n",
    "\n",
    "    def is_equal(self, hypothesis1, hypothesis2):\n",
    "        \"\"\"\n",
    "        Returns True if hypotheses are equal\n",
    "        \"\"\"\n",
    "        for i in range(len(hypothesis1)):\n",
    "            if hypothesis1[i] != hypothesis2[i]:\n",
    "                return False\n",
    "        return True"
   ]
  },
  {
   "cell_type": "code",
   "execution_count": 3,
   "metadata": {
    "collapsed": true
   },
   "outputs": [],
   "source": [
    "X, Y = load_data(\"data_1.csv\")"
   ]
  },
  {
   "cell_type": "code",
   "execution_count": 13,
   "metadata": {},
   "outputs": [
    {
     "data": {
      "text/plain": [
       "array(['yes', 'yes', 'no', 'yes'], dtype=object)"
      ]
     },
     "execution_count": 13,
     "metadata": {},
     "output_type": "execute_result"
    }
   ],
   "source": [
    "Y"
   ]
  },
  {
   "cell_type": "code",
   "execution_count": 15,
   "metadata": {},
   "outputs": [
    {
     "data": {
      "text/plain": [
       "array(['sunny', 'warm', 'normal', 'strong', 'warm', 'same'], dtype=object)"
      ]
     },
     "execution_count": 15,
     "metadata": {},
     "output_type": "execute_result"
    }
   ],
   "source": [
    "X[0]"
   ]
  },
  {
   "cell_type": "code",
   "execution_count": 104,
   "metadata": {
    "collapsed": true
   },
   "outputs": [],
   "source": [
    "CE = CandidateElimination()"
   ]
  },
  {
   "cell_type": "code",
   "execution_count": 101,
   "metadata": {},
   "outputs": [
    {
     "name": "stdout",
     "output_type": "stream",
     "text": [
      "[array(['rainy', 'sunny'], dtype=object), array(['cold', 'warm'], dtype=object), array(['high', 'normal'], dtype=object), array(['strong'], dtype=object), array(['cool', 'warm'], dtype=object), array(['change', 'same'], dtype=object)]\n",
      "rainy\n",
      "cold\n",
      "high\n",
      "cool\n",
      "change\n"
     ]
    }
   ],
   "source": [
    "new_S = CE.add_min_specialization(np.array(['?', '?', '?', '?', '?', '?'], dtype=object), X[0], 1, 2, X)"
   ]
  },
  {
   "cell_type": "code",
   "execution_count": 102,
   "metadata": {},
   "outputs": [
    {
     "data": {
      "text/plain": [
       "[array(['rainy', '?', '?', '?', '?', '?'], dtype=object),\n",
       " array(['?', 'cold', '?', '?', '?', '?'], dtype=object),\n",
       " array(['?', '?', 'high', '?', '?', '?'], dtype=object),\n",
       " array(['?', '?', '?', '?', 'cool', '?'], dtype=object),\n",
       " array(['?', '?', '?', '?', '?', 'change'], dtype=object)]"
      ]
     },
     "execution_count": 102,
     "metadata": {},
     "output_type": "execute_result"
    }
   ],
   "source": [
    "new_S"
   ]
  },
  {
   "cell_type": "code",
   "execution_count": 27,
   "metadata": {},
   "outputs": [],
   "source": [
    "init_h = CE.initialize_to_first_positive(X, Y)"
   ]
  },
  {
   "cell_type": "code",
   "execution_count": 86,
   "metadata": {},
   "outputs": [
    {
     "data": {
      "text/plain": [
       "array(['sunny', 'warm', 'normal', 'strong', 'warm', 'same'], dtype=object)"
      ]
     },
     "execution_count": 86,
     "metadata": {},
     "output_type": "execute_result"
    }
   ],
   "source": [
    "init_h[0]"
   ]
  },
  {
   "cell_type": "code",
   "execution_count": 44,
   "metadata": {},
   "outputs": [
    {
     "data": {
      "text/plain": [
       "True"
      ]
     },
     "execution_count": 44,
     "metadata": {},
     "output_type": "execute_result"
    }
   ],
   "source": [
    "CE.is_consistent(np.array(['sunny', 'warm', 'normal', 'strong', 'warm', 'sam']), init_h[0], False)"
   ]
  },
  {
   "cell_type": "code",
   "execution_count": 82,
   "metadata": {
    "collapsed": true
   },
   "outputs": [],
   "source": [
    "a = np.array([list()])"
   ]
  },
  {
   "cell_type": "code",
   "execution_count": 83,
   "metadata": {},
   "outputs": [
    {
     "data": {
      "text/plain": [
       "array([], shape=(1, 0), dtype=float64)"
      ]
     },
     "execution_count": 83,
     "metadata": {},
     "output_type": "execute_result"
    }
   ],
   "source": [
    "a.copy()"
   ]
  },
  {
   "cell_type": "code",
   "execution_count": 77,
   "metadata": {},
   "outputs": [],
   "source": [
    "a = [np.unique(X[:,idx]) for idx in range(6)]"
   ]
  },
  {
   "cell_type": "code",
   "execution_count": 81,
   "metadata": {},
   "outputs": [
    {
     "data": {
      "text/plain": [
       "list"
      ]
     },
     "execution_count": 81,
     "metadata": {},
     "output_type": "execute_result"
    }
   ],
   "source": [
    "type(a)"
   ]
  },
  {
   "cell_type": "code",
   "execution_count": null,
   "metadata": {
    "collapsed": true
   },
   "outputs": [],
   "source": [
    "CE.fit(X, Y)"
   ]
  }
 ],
 "metadata": {
  "kernelspec": {
   "display_name": "Python 3",
   "language": "python",
   "name": "python3"
  },
  "language_info": {
   "codemirror_mode": {
    "name": "ipython",
    "version": 3
   },
   "file_extension": ".py",
   "mimetype": "text/x-python",
   "name": "python",
   "nbconvert_exporter": "python",
   "pygments_lexer": "ipython3",
   "version": "3.6.1"
  }
 },
 "nbformat": 4,
 "nbformat_minor": 2
}

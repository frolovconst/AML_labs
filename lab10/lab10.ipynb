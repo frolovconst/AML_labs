{
 "cells": [
  {
   "cell_type": "code",
   "execution_count": 1,
   "metadata": {},
   "outputs": [
    {
     "name": "stderr",
     "output_type": "stream",
     "text": [
      "/opt/anaconda3/lib/python3.6/site-packages/h5py/__init__.py:36: FutureWarning: Conversion of the second argument of issubdtype from `float` to `np.floating` is deprecated. In future, it will be treated as `np.float64 == np.dtype(float).type`.\n",
      "  from ._conv import register_converters as _register_converters\n"
     ]
    }
   ],
   "source": [
    "import matplotlib.pyplot as plt\n",
    "import numpy as np\n",
    "import tensorflow as tf\n",
    "from sklearn import datasets"
   ]
  },
  {
   "cell_type": "code",
   "execution_count": 2,
   "metadata": {},
   "outputs": [],
   "source": [
    "# Start session\n",
    "# sess = tf.Session()\n",
    "\n",
    "# Generate non-linear moon-shape like data\n",
    "(x_vals, y_vals) = datasets.make_moons(n_samples=350, noise=.20, random_state=0)\n",
    "y_vals = np.array([1 if y == 1 else -1 for y in y_vals])\n",
    "class1_x = [x[0] for i, x in enumerate(x_vals) if y_vals[i] == 1]\n",
    "class1_y = [x[1] for i, x in enumerate(x_vals) if y_vals[i] == 1]\n",
    "class2_x = [x[0] for i, x in enumerate(x_vals) if y_vals[i] == -1]\n",
    "class2_y = [x[1] for i, x in enumerate(x_vals) if y_vals[i] == -1]"
   ]
  },
  {
   "cell_type": "code",
   "execution_count": null,
   "metadata": {},
   "outputs": [],
   "source": [
    "# TODO START YOUR CODE HERE\n",
    "# Initialize placeholders\n",
    "x_data = None\n",
    "y_target = None\n",
    "\n",
    "# Create variables for svm\n",
    "b = None # intercept (bias)\n",
    "A = None # theta\n",
    "\n",
    "# Build an SVM Model\n",
    "\n",
    "\n",
    "# Define loss function\n",
    "loss = None\n",
    "\n",
    "# Define prediction function\n",
    "prediction = None\n",
    "\n",
    "# Define optimizer and train step\n",
    "my_opt = None\n",
    "train_step = None\n",
    "\n",
    "# Initialize variables\n",
    "init = tf.global_variables_initializer()\n",
    "sess.run(init)\n",
    "\n",
    "# To store values of the loss function at each iteration\n",
    "losses = []\n",
    "\n",
    "# Save graph to the file to inspect with tensorboard\n",
    "writer = tf.summary.FileWriter(\"./logs/\", tf.get_default_graph())\n",
    "\n",
    "# END YOUR CODE HERE\n",
    "\n",
    "# Training loop\n",
    "for i in range(500):\n",
    "    sess.run(train_step, feed_dict={x_data: x_vals, y_target: y_vals[:, np.newaxis]})\n",
    "\n",
    "    current_loss = sess.run(loss, feed_dict={x_data: x_vals, y_target: y_vals[:, np.newaxis]})\n",
    "    losses.append(current_loss)\n",
    "\n",
    "    if i == 0 or (i + 1) % 100 == 0:\n",
    "        print(\"Epoch %d, Loss = %.2f\" % (i + 1, current_loss))\n",
    "\n",
    "\n",
    "# Create a mesh to plot points and predictions\n",
    "x_min, x_max = x_vals[:, 0].min() - 1, x_vals[:, 0].max() + 1\n",
    "y_min, y_max = x_vals[:, 1].min() - 1, x_vals[:, 1].max() + 1\n",
    "xrange, yrange = np.meshgrid(np.arange(x_min, x_max, 0.02),\n",
    "                             np.arange(y_min, y_max, 0.02))\n",
    "# Form a grid by taking each point point from x and y range\n",
    "grid = np.c_[xrange.ravel(), yrange.ravel()]\n",
    "grid = grid.astype(float)\n",
    "# Make predictions for each point of the grid\n",
    "[grid_predictions] = sess.run(prediction, feed_dict={x_data: grid})\n",
    "grid_predictions = grid_predictions.reshape(xrange.shape)\n",
    "\n",
    "# Plot initial points and color grid points according to the prediction made for each point\n",
    "plt.contourf(xrange, yrange, grid_predictions, cmap='copper', alpha=0.8)\n",
    "plt.plot(class1_x, class1_y, 'ro', label='Class 1')\n",
    "plt.plot(class2_x, class2_y, 'kx', label='Class -1')\n",
    "plt.title('Linear SVM Results')\n",
    "plt.xlabel('x')\n",
    "plt.ylabel('y')\n",
    "plt.legend(loc='lower right')\n",
    "plt.ylim([-1.5, 1.5])\n",
    "plt.xlim([-1.5, 1.5])\n",
    "plt.show()\n",
    "\n",
    "# Plot loss over time\n",
    "plt.plot(losses, 'k-')\n",
    "plt.title('Loss per Epoch')\n",
    "plt.xlabel('Epoch')\n",
    "plt.ylabel('Loss')\n",
    "plt.show()"
   ]
  }
 ],
 "metadata": {
  "kernelspec": {
   "display_name": "Python 3",
   "language": "python",
   "name": "python3"
  },
  "language_info": {
   "codemirror_mode": {
    "name": "ipython",
    "version": 3
   },
   "file_extension": ".py",
   "mimetype": "text/x-python",
   "name": "python",
   "nbconvert_exporter": "python",
   "pygments_lexer": "ipython3",
   "version": "3.6.1"
  }
 },
 "nbformat": 4,
 "nbformat_minor": 2
}

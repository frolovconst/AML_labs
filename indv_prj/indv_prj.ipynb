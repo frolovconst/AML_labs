{
 "cells": [
  {
   "cell_type": "code",
   "execution_count": 586,
   "metadata": {
    "collapsed": true
   },
   "outputs": [],
   "source": [
    "import pandas as pd\n",
    "import numpy as np\n",
    "from pathlib import Path\n",
    "import matplotlib.pyplot as plt"
   ]
  },
  {
   "cell_type": "markdown",
   "metadata": {},
   "source": [
    "# Create sample dataset to facilitate model testing"
   ]
  },
  {
   "cell_type": "code",
   "execution_count": null,
   "metadata": {
    "collapsed": true
   },
   "outputs": [],
   "source": [
    "dtypes={'userid': np.int32, 'movieid': np.int32, 'rating': np.float, 'timestamp': np.int8}\n",
    "ratings_sample = pd.read_csv('data/ml-latest/split_movies/ratings_p00.csv')\n",
    "names=ratings_sample.columns\n",
    "ratings_sample = ratings_sample.drop(columns=['timestamp'])\n",
    "\n",
    "ratings_sample.drop(index=np.random.choice(ratings_sample.shape[0], int(ratings_sample.shape[0]/26*25), replace=False), inplace=True)\n",
    "\n",
    "pth = Path('data/ml-latest/split_movies/')\n",
    "for i,child in enumerate(sorted(pth.iterdir())):\n",
    "    if i==0:\n",
    "        continue\n",
    "    part = pd.read_csv('data/ml-latest/split_movies/'+child.name, dtype=dtypes, names=names) \n",
    "    part.drop(columns=['timestamp'], inplace=True)\n",
    "    part.drop(index=np.random.choice(part.shape[0], int(part.shape[0]/27*26), replace=False), inplace=True)\n",
    "    ratings_sample = ratings_sample.append(part)\n",
    "gb=ratings_sample.groupby('userId')\n",
    "ratings_sample = gb.filter(lambda x: x.shape[0]<100)\n",
    "ratings_sample.reset_index(drop=True, inplace=True)"
   ]
  },
  {
   "cell_type": "markdown",
   "metadata": {},
   "source": [
    "# Save train and test sets"
   ]
  },
  {
   "cell_type": "code",
   "execution_count": 2,
   "metadata": {
    "collapsed": true
   },
   "outputs": [],
   "source": [
    "m = ratings_sample.shape[0]\n",
    "test_portion=.1\n",
    "test_m = int(test_portion*m)\n",
    "\n",
    "gb=ratings_sample.groupby('userId')\n",
    "test_ds = gb.filter(lambda x: x.shape[0]>1)\n",
    "gb = test_ds.groupby('userId', as_index=False)\n",
    "test_ds = gb.apply(lambda x: x.loc[np.random.choice(x.index, 1)])\n",
    "test_ds = test_ds.reset_index(level=0, drop=True)\n",
    "test_ds=test_ds.loc[np.random.choice(test_ds.index, test_m, replace=False)]\n",
    "test_ds.to_csv('data/test_set.csv', index=False)\n",
    "ratings_sample.drop(index=test_ds.index, inplace=True)\n",
    "ratings_sample.to_csv('data/ratings_sample.csv', index=False)"
   ]
  },
  {
   "cell_type": "markdown",
   "metadata": {},
   "source": [
    "# Extract user IDs and movie IDs, normalize train rating"
   ]
  },
  {
   "cell_type": "code",
   "execution_count": 3,
   "metadata": {
    "collapsed": true
   },
   "outputs": [],
   "source": [
    "movies = ratings_sample.drop(columns='userId').groupby('movieId').mean()\n",
    "ratings_sample = ratings_sample.merge(movies, how='left', left_on='movieId', right_index=True, suffixes=('','_mn'))\n",
    "ratings_sample['rating_nrm']=ratings_sample.rating-ratings_sample.rating_mn\n",
    "num_features=10\n",
    "users = ratings_sample.userId.unique()\n",
    "users.sort()"
   ]
  },
  {
   "cell_type": "markdown",
   "metadata": {},
   "source": [
    "# Initialize model parameters"
   ]
  },
  {
   "cell_type": "code",
   "execution_count": 609,
   "metadata": {},
   "outputs": [],
   "source": [
    "user_features = 4*np.random.rand(users.size, num_features)-2\n",
    "user_features = pd.DataFrame(user_features, index=users)\n",
    "movie_features = 4*np.random.rand(movies.shape[0], num_features)-2\n",
    "movie_features = pd.DataFrame(movie_features, index=movies.index)"
   ]
  },
  {
   "cell_type": "code",
   "execution_count": null,
   "metadata": {
    "collapsed": true
   },
   "outputs": [],
   "source": [
    "test_ds.drop(index=test_ds[~test_ds.movieId.isin(movie_features.index)].index, inplace=True)"
   ]
  },
  {
   "cell_type": "code",
   "execution_count": 438,
   "metadata": {
    "collapsed": true
   },
   "outputs": [],
   "source": [
    "def costFunc(user_features, movie_features, y, lmbd=0):\n",
    "    movie = y.movieId\n",
    "    user=y.userId\n",
    "    y_true=y.rating_nrm\n",
    "#     print(y_true)\n",
    "#     print(user_features.loc[user])\n",
    "#     print(movie_features.loc[movie])\n",
    "    prediction = user_features.loc[user].dot(movie_features.loc[movie])\n",
    "    delta = (prediction-y_true)\n",
    "    cost = delta**2/2\n",
    "    return cost"
   ]
  },
  {
   "cell_type": "code",
   "execution_count": 495,
   "metadata": {
    "collapsed": true
   },
   "outputs": [],
   "source": [
    "def gradFunc(user_features, movie_features, y, lmbd=1e-4):\n",
    "    movie = y.movieId\n",
    "    user=y.userId\n",
    "    y_true=y.rating_nrm\n",
    "    prediction = user_features.loc[user].dot(movie_features.loc[movie])\n",
    "    delta = (prediction-y_true)\n",
    "    grad_t = delta*movie_features.loc[movie]+lmbd*user_features.loc[user]\n",
    "    grad_x = delta*user_features.loc[user]+lmbd*movie_features.loc[movie]\n",
    "    return grad_t, grad_x"
   ]
  },
  {
   "cell_type": "code",
   "execution_count": 443,
   "metadata": {
    "collapsed": true
   },
   "outputs": [],
   "source": [
    "def update_params(user_features, movie_features, y, grads_t, grads_x, alpha=.1):\n",
    "    movie = y.movieId\n",
    "    user=y.userId\n",
    "    user_features.loc[user] -= alpha*grads_t\n",
    "    movie_features.loc[movie] -= alpha*grads_x    "
   ]
  },
  {
   "cell_type": "markdown",
   "metadata": {},
   "source": [
    "# Perform stochastic gradient descent"
   ]
  },
  {
   "cell_type": "code",
   "execution_count": 610,
   "metadata": {},
   "outputs": [
    {
     "name": "stdout",
     "output_type": "stream",
     "text": [
      "1.64896027605\n",
      "0.00989576191251\n",
      "4.445942318e-08\n",
      "0.0539866786528\n"
     ]
    },
    {
     "data": {
      "image/png": "[encoded data removed]",
      "text/plain": [
       "<matplotlib.figure.Figure at 0x7f4ae9e7b6d8>"
      ]
     },
     "metadata": {},
     "output_type": "display_data"
    }
   ],
   "source": [
    "print(costFunc(user_features, movie_features, ratings_sample.loc[0]))\n",
    "m_sam = ratings_sample.shape[0]\n",
    "mod = int(m_sam/300)\n",
    "x=[]\n",
    "y=[]\n",
    "lmbd = 1e-5 # 80/m_sam\n",
    "for i in range(3):\n",
    "    for index,row in ratings_sample.iterrows():\n",
    "    #     cost = costFunc(user_features, movie_features, row)\n",
    "        grad_t, grad_x = gradFunc(user_features, movie_features, row, lmbd)\n",
    "        update_params(user_features, movie_features, row, grad_t, grad_x)\n",
    "        if index % mod == 0:\n",
    "            y += [costFunc(user_features, movie_features, row),]\n",
    "            x += [index+i*m_sam,]\n",
    "    print(costFunc(user_features, movie_features, ratings_sample.loc[0]))\n",
    "plt.figure(figsize=[10,7])\n",
    "plt.plot(x,y, label='cost')\n",
    "plt.grid()\n",
    "plt.legend()\n",
    "plt.show()"
   ]
  },
  {
   "cell_type": "code",
   "execution_count": 612,
   "metadata": {},
   "outputs": [],
   "source": [
    "movie_features.to_csv('data/movie_features.csv', index=False)\n",
    "\n",
    "user_features.to_csv('data/user_features.csv', index=False)"
   ]
  },
  {
   "cell_type": "markdown",
   "metadata": {},
   "source": [
    "# Final test set processing, score evaluation"
   ]
  },
  {
   "cell_type": "code",
   "execution_count": 635,
   "metadata": {},
   "outputs": [],
   "source": [
    "prd = test_ds.apply(lambda x: user_features.loc[x.userId].dot(movie_features.loc[x.movieId])+movies.loc[x.movieId], axis=1)\n",
    "prd.rating[prd.rating<0]=0\n",
    "prd.rating[prd.rating>5]=5\n",
    "MAE = np.abs(test_ds.rating-prd.rating).mean()\n",
    "MAE"
   ]
  }
 ],
 "metadata": {
  "kernelspec": {
   "display_name": "Python 3",
   "language": "python",
   "name": "python3"
  },
  "language_info": {
   "codemirror_mode": {
    "name": "ipython",
    "version": 3
   },
   "file_extension": ".py",
   "mimetype": "text/x-python",
   "name": "python",
   "nbconvert_exporter": "python",
   "pygments_lexer": "ipython3",
   "version": "3.6.3"
  }
 },
 "nbformat": 4,
 "nbformat_minor": 2
}

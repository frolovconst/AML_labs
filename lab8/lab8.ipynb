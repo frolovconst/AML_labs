{
 "cells": [
  {
   "cell_type": "code",
   "execution_count": 2,
   "metadata": {},
   "outputs": [],
   "source": [
    "import numpy as np\n",
    "import math\n",
    "from pandas import get_dummies, DataFrame\n",
    "from sklearn.naive_bayes import MultinomialNB\n",
    "from sklearn.model_selection import cross_val_score, KFold\n",
    "from utils import load_data"
   ]
  },
  {
   "cell_type": "code",
   "execution_count": 11,
   "metadata": {
    "collapsed": true
   },
   "outputs": [],
   "source": [
    "np.set_printoptions(linewidth=200)"
   ]
  },
  {
   "cell_type": "code",
   "execution_count": 3,
   "metadata": {
    "collapsed": true
   },
   "outputs": [],
   "source": [
    "class NaiveBayes:\n",
    "\n",
    "    def __init__(self):\n",
    "        \"\"\"\n",
    "        Your initialization procedure if required\n",
    "        \"\"\"\n",
    "        pass\n",
    "\n",
    "    def fit(self, X, Y):\n",
    "        \"\"\"\n",
    "        This method calculates class probabilities and conditional probabilities to be used for prediction\n",
    "\n",
    "        Both numerical and categorical features are accepted.\n",
    "        Conditional probability of numerical features is calculated based on Probability Density Function\n",
    "        (assuming normal distribution)\n",
    "\n",
    "        :param X: training data, numpy array of shape (n,m)\n",
    "        :param Y: training labels, numpy array of shape (n,1)\n",
    "        \"\"\"\n",
    "        # TODO START YOUR CODE HERE\n",
    "\n",
    "        # END YOUR CODE HERE\n",
    "\n",
    "    @staticmethod\n",
    "    def estimate_mean_and_stdev(values):\n",
    "        \"\"\"\n",
    "        Estimates parameters of normal distribution - empirical mean and standard deviation\n",
    "        :param values: attribute sample values\n",
    "        :return: mean, stdev\n",
    "        \"\"\"\n",
    "        # TODO START YOUR CODE HERE\n",
    "\n",
    "        # END YOUR CODE HERE\n",
    "\n",
    "    @staticmethod\n",
    "    def calc_probability(val, mean, stdev):\n",
    "        \"\"\"\n",
    "        Estimates probability of encountering a point (val) given parameters of normal distribution\n",
    "        based on probability density function\n",
    "        :param val: point\n",
    "        :param mean: mean value\n",
    "        :param stdev: standard deviation\n",
    "        :return: relative likelihood of a point\n",
    "        \"\"\"\n",
    "        # TODO START YOUR CODE HERE\n",
    "\n",
    "        # END YOUR CODE HERE\n",
    "\n",
    "    def predict(self, X):\n",
    "        \"\"\"\n",
    "        Predict class labels for given input. Refer to lecture slides for corresponding formula\n",
    "        :param X: test data, numpy array of shape (n,m)\n",
    "        :return: numpy array of predictions\n",
    "        \"\"\"\n",
    "        # TODO START YOUR CODE HERE\n",
    "\n",
    "        # END YOUR CODE HERE\n",
    "\n",
    "    def get_params(self, deep = False):\n",
    "        return {}"
   ]
  },
  {
   "cell_type": "code",
   "execution_count": 8,
   "metadata": {
    "collapsed": true
   },
   "outputs": [],
   "source": [
    "X, Y = load_data(\"crx.data.csv\")\n",
    "# indexes of numerical attributes\n",
    "numerical_attrs = [1, 2, 7, 10, 13, 14]\n",
    "X[:, numerical_attrs] = X[:, numerical_attrs].astype(float)"
   ]
  },
  {
   "cell_type": "code",
   "execution_count": null,
   "metadata": {
    "collapsed": true
   },
   "outputs": [],
   "source": [
    "# categorical features only. Use this to test your initial implementation\n",
    "X_cat = np.delete(X, numerical_attrs, 1)\n",
    "scores = cross_val_score(NaiveBayes(), X_cat, Y, cv=KFold(n_splits=15, shuffle=True), scoring='accuracy')\n",
    "print(\"Categorical Accuracy: %0.2f (+/- %0.2f)\" % (scores.mean(), scores.std() * 2))\n",
    "\n",
    "# use this as a benchmark. Your algorithm (on categorical features) should reach the same accuracy\n",
    "X_dummy = DataFrame.as_matrix(get_dummies(DataFrame(X_cat)))\n",
    "scores = cross_val_score(MultinomialNB(), X_dummy, Y.ravel(), cv=KFold(n_splits=15, shuffle=True), scoring='accuracy')\n",
    "print(\"Categorical Accuracy of Standard NB: %0.2f (+/- %0.2f)\" % (scores.mean(), scores.std() * 2))\n",
    "\n",
    "# all (mixed) features. Use this to test your final implementation\n",
    "scores = cross_val_score(NaiveBayes(), X, Y.ravel(), cv=KFold(n_splits=15, shuffle=True), scoring='accuracy')\n",
    "print(\"Overall Accuracy: %0.2f (+/- %0.2f)\" % (scores.mean(), scores.std() * 2))\n",
    "\n",
    "# write your thoughts here (if any)"
   ]
  }
 ],
 "metadata": {
  "kernelspec": {
   "display_name": "Python 3",
   "language": "python",
   "name": "python3"
  },
  "language_info": {
   "codemirror_mode": {
    "name": "ipython",
    "version": 3
   },
   "file_extension": ".py",
   "mimetype": "text/x-python",
   "name": "python",
   "nbconvert_exporter": "python",
   "pygments_lexer": "ipython3",
   "version": "3.6.1"
  }
 },
 "nbformat": 4,
 "nbformat_minor": 2
}

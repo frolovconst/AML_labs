{
 "cells": [
  {
   "cell_type": "code",
   "execution_count": 87,
   "metadata": {},
   "outputs": [],
   "source": [
    "import numpy as np\n",
    "import tensorflow as tf"
   ]
  },
  {
   "cell_type": "code",
   "execution_count": 112,
   "metadata": {},
   "outputs": [],
   "source": [
    "tf.reset_default_graph()\n",
    "class RNNcell:\n",
    "    def __init__(self):\n",
    "        pass\n",
    "    \n",
    "    def process_sequence(self, input_shape, hidden_shape, output_shape, L):\n",
    "        self.hidden_shape = hidden_shape\n",
    "        X=[]\n",
    "        for i in range(L):\n",
    "            X_t = tf.placeholder(np.float32, (None, input_shape))\n",
    "            X += [X_t,]\n",
    "        \n",
    "        Wh = tf.get_variable('input_weights', shape=(input_shape, 1), dtype=np.float32, initializer=tf.zeros_initializer())\n",
    "        Uh = tf.get_variable('state_weights', shape=(1, hidden_shape), initializer=tf.zeros_initializer())   \n",
    "        Wy = tf.get_variable('output_weights', shape=( 1, output_shape), initializer=tf.zeros_initializer()) \n",
    "        bh = tf.get_variable('bias_state', shape=(1,1), initializer=tf.zeros_initializer())\n",
    "        by = tf.get_variable('bias_y', shape=(1,1), initializer=tf.zeros_initializer())\n",
    "        \n",
    "        h = [tf.get_variable('init_state', shape=(hidden_shape, 1), initializer=tf.zeros_initializer()),]\n",
    "        y = [tf.sigmoid(tf.matmul(h[0], Wy) + by),]\n",
    "        \n",
    "        \n",
    "        for i in range(L):\n",
    "            h_t = tf.sigmoid(tf.matmul(X[i], Wh) + tf.matmul(Uh, h[i]) + bh)\n",
    "            h += [h_t,]\n",
    "            y += [tf.sigmoid(tf.matmul(h_t, Wy) + by),]\n",
    "        \n",
    "        return y[-1]\n",
    "\n",
    "        \n",
    "        \n",
    "        \n",
    "        "
   ]
  },
  {
   "cell_type": "code",
   "execution_count": 113,
   "metadata": {},
   "outputs": [],
   "source": [
    "anRNN = RNNcell()\n",
    "\n",
    "y_L = anRNN.process_sequence(5, 3, 2, 10)"
   ]
  },
  {
   "cell_type": "code",
   "execution_count": 109,
   "metadata": {},
   "outputs": [],
   "source": [
    "X_inp = [np.ones((7, 5)) for i in range(10)]"
   ]
  },
  {
   "cell_type": "code",
   "execution_count": 118,
   "metadata": {},
   "outputs": [
    {
     "ename": "NameError",
     "evalue": "name 'Placeholder_9' is not defined",
     "output_type": "error",
     "traceback": [
      "\u001b[0;31m---------------------------------------------------------------------------\u001b[0m",
      "\u001b[0;31mNameError\u001b[0m                                 Traceback (most recent call last)",
      "\u001b[0;32m<ipython-input-118-f12d796048c0>\u001b[0m in \u001b[0;36m<module>\u001b[0;34m()\u001b[0m\n\u001b[1;32m      1\u001b[0m \u001b[0;32mwith\u001b[0m \u001b[0mtf\u001b[0m\u001b[0;34m.\u001b[0m\u001b[0mSession\u001b[0m\u001b[0;34m(\u001b[0m\u001b[0;34m)\u001b[0m \u001b[0;32mas\u001b[0m \u001b[0msess\u001b[0m\u001b[0;34m:\u001b[0m\u001b[0;34m\u001b[0m\u001b[0m\n\u001b[0;32m----> 2\u001b[0;31m     \u001b[0msess\u001b[0m\u001b[0;34m.\u001b[0m\u001b[0mrun\u001b[0m\u001b[0;34m(\u001b[0m\u001b[0my_L\u001b[0m\u001b[0;34m,\u001b[0m \u001b[0mfeed_dict\u001b[0m\u001b[0;34m=\u001b[0m\u001b[0;34m{\u001b[0m\u001b[0mPlaceholder_9\u001b[0m\u001b[0;34m:\u001b[0m \u001b[0mX_inp\u001b[0m\u001b[0;34m[\u001b[0m\u001b[0;34m-\u001b[0m\u001b[0;36m1\u001b[0m\u001b[0;34m]\u001b[0m\u001b[0;34m}\u001b[0m\u001b[0;34m)\u001b[0m\u001b[0;34m\u001b[0m\u001b[0m\n\u001b[0m",
      "\u001b[0;31mNameError\u001b[0m: name 'Placeholder_9' is not defined"
     ]
    }
   ],
   "source": [
    "with tf.Session() as sess:\n",
    "#     sess.run(y_L, feed_dict={Placeholder_9: X_inp[-1]})"
   ]
  }
 ],
 "metadata": {
  "kernelspec": {
   "display_name": "Python 3",
   "language": "python",
   "name": "python3"
  },
  "language_info": {
   "codemirror_mode": {
    "name": "ipython",
    "version": 3
   },
   "file_extension": ".py",
   "mimetype": "text/x-python",
   "name": "python",
   "nbconvert_exporter": "python",
   "pygments_lexer": "ipython3",
   "version": "3.6.1"
  }
 },
 "nbformat": 4,
 "nbformat_minor": 2
}
